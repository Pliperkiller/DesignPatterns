{
 "cells": [
  {
   "cell_type": "markdown",
   "metadata": {},
   "source": [
    "# De colaboracion"
   ]
  },
  {
   "cell_type": "markdown",
   "metadata": {},
   "source": [
    "## Mediator\n",
    "Centraliza la comunicación entre objetos evitando dependencias directas."
   ]
  },
  {
   "cell_type": "code",
   "execution_count": 1,
   "metadata": {},
   "outputs": [
    {
     "name": "stdout",
     "output_type": "stream",
     "text": [
      "Alice envía: Hola a todos!\n",
      "Bob recibe de Alice: Hola a todos!\n",
      "Charlie recibe de Alice: Hola a todos!\n",
      "Bob envía: Hola Alice!\n",
      "Alice recibe de Bob: Hola Alice!\n",
      "Charlie recibe de Bob: Hola Alice!\n",
      "Charlie envía: ¿Cómo están?\n",
      "Alice recibe de Charlie: ¿Cómo están?\n",
      "Bob recibe de Charlie: ¿Cómo están?\n"
     ]
    }
   ],
   "source": [
    "from typing import List\n",
    "\n",
    "# Mediador\n",
    "class ChatRoom:\n",
    "    def __init__(self):\n",
    "        self.users = []\n",
    "\n",
    "    def register_user(self, user):\n",
    "        self.users.append(user)\n",
    "\n",
    "    def send_message(self, message, sender):\n",
    "        for user in self.users:\n",
    "            if user != sender:\n",
    "                user.receive(message, sender)\n",
    "\n",
    "# Componente Colega\n",
    "class User:\n",
    "    def __init__(self, name, chat_room: ChatRoom):\n",
    "        self.name = name\n",
    "        self.chat_room = chat_room\n",
    "        self.chat_room.register_user(self)\n",
    "\n",
    "    def send(self, message):\n",
    "        print(f\"{self.name} envía: {message}\")\n",
    "        self.chat_room.send_message(message, self)\n",
    "\n",
    "    def receive(self, message, sender):\n",
    "        print(f\"{self.name} recibe de {sender.name}: {message}\")\n",
    "\n",
    "# Uso del patrón Mediator\n",
    "chat = ChatRoom()\n",
    "\n",
    "user1 = User(\"Alice\", chat)\n",
    "user2 = User(\"Bob\", chat)\n",
    "user3 = User(\"Charlie\", chat)\n",
    "\n",
    "user1.send(\"Hola a todos!\")\n",
    "user2.send(\"Hola Alice!\")\n",
    "user3.send(\"¿Cómo están?\")\n"
   ]
  },
  {
   "cell_type": "markdown",
   "metadata": {},
   "source": [
    "## Observer\n",
    "Permite que un objeto notifique cambios a múltiples dependientes."
   ]
  },
  {
   "cell_type": "code",
   "execution_count": 2,
   "metadata": {},
   "outputs": [
    {
     "name": "stdout",
     "output_type": "stream",
     "text": [
      "\n",
      "📢 TechReviews ha subido un nuevo video: Review del nuevo smartphone 📱\n",
      "📩 Alice ha recibido una notificación: 'Review del nuevo smartphone 📱' en TechReviews\n",
      "📩 Bob ha recibido una notificación: 'Review del nuevo smartphone 📱' en TechReviews\n",
      "\n",
      "📢 TechReviews ha subido un nuevo video: Comparativa de laptops 💻\n",
      "📩 Alice ha recibido una notificación: 'Comparativa de laptops 💻' en TechReviews\n",
      "📩 Bob ha recibido una notificación: 'Comparativa de laptops 💻' en TechReviews\n",
      "📩 Charlie ha recibido una notificación: 'Comparativa de laptops 💻' en TechReviews\n"
     ]
    }
   ],
   "source": [
    "# Sujeto (Canal de YouTube)\n",
    "class YouTubeChannel:\n",
    "    def __init__(self, name):\n",
    "        self.name = name\n",
    "        self.subscribers = []\n",
    "\n",
    "    def subscribe(self, subscriber):\n",
    "        self.subscribers.append(subscriber)\n",
    "\n",
    "    def unsubscribe(self, subscriber):\n",
    "        self.subscribers.remove(subscriber)\n",
    "\n",
    "    def upload_video(self, title):\n",
    "        print(f\"\\n📢 {self.name} ha subido un nuevo video: {title}\")\n",
    "        self.notify_subscribers(title)\n",
    "\n",
    "    def notify_subscribers(self, title):\n",
    "        for subscriber in self.subscribers:\n",
    "            subscriber.update(self.name, title)\n",
    "\n",
    "# Observador (Suscriptor)\n",
    "class Subscriber:\n",
    "    def __init__(self, name):\n",
    "        self.name = name\n",
    "\n",
    "    def update(self, channel_name, video_title):\n",
    "        print(f\"📩 {self.name} ha recibido una notificación: '{video_title}' en {channel_name}\")\n",
    "\n",
    "# Uso del patrón Observer\n",
    "channel = YouTubeChannel(\"TechReviews\")\n",
    "\n",
    "user1 = Subscriber(\"Alice\")\n",
    "user2 = Subscriber(\"Bob\")\n",
    "user3 = Subscriber(\"Charlie\")\n",
    "\n",
    "channel.subscribe(user1)\n",
    "channel.subscribe(user2)\n",
    "\n",
    "channel.upload_video(\"Review del nuevo smartphone 📱\")\n",
    "\n",
    "channel.subscribe(user3)\n",
    "\n",
    "channel.upload_video(\"Comparativa de laptops 💻\")\n"
   ]
  },
  {
   "cell_type": "markdown",
   "metadata": {},
   "source": [
    "## Chain of responsibility\n",
    "Permite que varias clases manejen una solicitud sin que el remitente conozca el receptor exacto"
   ]
  },
  {
   "cell_type": "code",
   "execution_count": 3,
   "metadata": {},
   "outputs": [
    {
     "name": "stdout",
     "output_type": "stream",
     "text": [
      "\n",
      "🔵 Solicitud de $500:\n",
      "✅ Gerente aprobó la solicitud de $500\n",
      "\n",
      "🔵 Solicitud de $3000:\n",
      "➡️ Gerente pasa la solicitud de $3000 al Director\n",
      "✅ Director aprobó la solicitud de $3000\n",
      "\n",
      "🔵 Solicitud de $10000:\n",
      "➡️ Gerente pasa la solicitud de $10000 al Director\n",
      "➡️ Director pasa la solicitud de $10000 al CEO\n",
      "✅ CEO aprobó la solicitud de $10000\n"
     ]
    }
   ],
   "source": [
    "# Clase base para los manejadores\n",
    "class Approver:\n",
    "    def __init__(self, successor=None):\n",
    "        self.successor = successor  # Siguiente manejador en la cadena\n",
    "\n",
    "    def handle_request(self, amount):\n",
    "        if self.successor:\n",
    "            self.successor.handle_request(amount)\n",
    "\n",
    "# Manejadores concretos\n",
    "class Manager(Approver):\n",
    "    def handle_request(self, amount):\n",
    "        if amount <= 1000:\n",
    "            print(f\"✅ Gerente aprobó la solicitud de ${amount}\")\n",
    "        else:\n",
    "            print(f\"➡️ Gerente pasa la solicitud de ${amount} al Director\")\n",
    "            super().handle_request(amount)\n",
    "\n",
    "class Director(Approver):\n",
    "    def handle_request(self, amount):\n",
    "        if amount <= 5000:\n",
    "            print(f\"✅ Director aprobó la solicitud de ${amount}\")\n",
    "        else:\n",
    "            print(f\"➡️ Director pasa la solicitud de ${amount} al CEO\")\n",
    "            super().handle_request(amount)\n",
    "\n",
    "class CEO(Approver):\n",
    "    def handle_request(self, amount):\n",
    "        print(f\"✅ CEO aprobó la solicitud de ${amount}\")\n",
    "\n",
    "# Configuración de la cadena\n",
    "ceo = CEO()\n",
    "director = Director(ceo)\n",
    "manager = Manager(director)\n",
    "\n",
    "# Pruebas\n",
    "print(\"\\n🔵 Solicitud de $500:\")\n",
    "manager.handle_request(500)\n",
    "\n",
    "print(\"\\n🔵 Solicitud de $3000:\")\n",
    "manager.handle_request(3000)\n",
    "\n",
    "print(\"\\n🔵 Solicitud de $10000:\")\n",
    "manager.handle_request(10000)\n"
   ]
  },
  {
   "cell_type": "markdown",
   "metadata": {},
   "source": [
    "# De estado"
   ]
  },
  {
   "cell_type": "code",
   "execution_count": null,
   "metadata": {},
   "outputs": [],
   "source": []
  },
  {
   "cell_type": "code",
   "execution_count": null,
   "metadata": {},
   "outputs": [],
   "source": []
  }
 ],
 "metadata": {
  "kernelspec": {
   "display_name": "venv",
   "language": "python",
   "name": "python3"
  },
  "language_info": {
   "codemirror_mode": {
    "name": "ipython",
    "version": 3
   },
   "file_extension": ".py",
   "mimetype": "text/x-python",
   "name": "python",
   "nbconvert_exporter": "python",
   "pygments_lexer": "ipython3",
   "version": "3.11.3"
  }
 },
 "nbformat": 4,
 "nbformat_minor": 2
}
