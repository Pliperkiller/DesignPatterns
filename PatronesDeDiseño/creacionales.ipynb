{
 "cells": [
  {
   "cell_type": "markdown",
   "metadata": {},
   "source": [
    "# Factory\n",
    "Proporciona una interfaz para crear objetos en una superclase, mientras permite a las subclases alterar el tipo de objetos que se crearán."
   ]
  },
  {
   "cell_type": "markdown",
   "metadata": {},
   "source": [
    "## Caso de estudio: Sistema de preparacion de comidas rápidas\n",
    "\n",
    "Se dispone de un sistema de preparacion de comidas rápidas, las clases \"comida\" se encargan de gestionar el proceso de la comida mientras que las clases fábrica se encargan de crearlas/instanciarlas, el modelo presentado corresponde a un factory method"
   ]
  },
  {
   "cell_type": "code",
   "execution_count": 3,
   "metadata": {},
   "outputs": [
    {
     "name": "stdout",
     "output_type": "stream",
     "text": [
      "Pizza is preparing...\n",
      "Pizza is serving...\n",
      "Burger is preparing...\n",
      "Burger is serving...\n"
     ]
    }
   ],
   "source": [
    "from typing import List\n",
    "from abc import ABC, abstractmethod\n",
    "\n",
    "# Interface factory\n",
    "class IFoodFactory(ABC):\n",
    "    @abstractmethod\n",
    "    def create_food(self):\n",
    "        pass\n",
    "\n",
    "class PizzaFactory(IFoodFactory):\n",
    "    def create_food(self):\n",
    "        return Pizza()\n",
    "    \n",
    "class BurgerFactory(IFoodFactory):\n",
    "    def create_food(self):\n",
    "        return Burger()\n",
    "\n",
    "# Interface product\n",
    "class IFood(ABC):\n",
    "    @abstractmethod\n",
    "    def prepare(self):\n",
    "        pass\n",
    "\n",
    "    @abstractmethod\n",
    "    def serve(self):\n",
    "        pass\n",
    "\n",
    "class Pizza(IFood):\n",
    "    def prepare(self):\n",
    "        print(\"Pizza is preparing...\")\n",
    "\n",
    "    def serve(self):\n",
    "        print(\"Pizza is serving...\")\n",
    "\n",
    "class Burger(IFood):\n",
    "    def prepare(self):\n",
    "        print(\"Burger is preparing...\")\n",
    "\n",
    "    def serve(self):\n",
    "        print(\"Burger is serving...\")\n",
    "\n",
    "class Client:\n",
    "    def __init__(self, food_factory: IFoodFactory):\n",
    "        self.food_factory = food_factory\n",
    "    \n",
    "    def execute(self):\n",
    "        food = self.food_factory.create_food()\n",
    "        food.prepare()\n",
    "        food.serve()\n",
    "\n",
    "if __name__ == \"__main__\":\n",
    "    client1 = Client(PizzaFactory())\n",
    "    client1.execute()\n",
    "    \n",
    "    client2 = Client(BurgerFactory())\n",
    "    client2.execute()"
   ]
  },
  {
   "cell_type": "markdown",
   "metadata": {},
   "source": [
    "El modelo planteado satisface los principios SOLID:\n",
    "\n",
    "    S - Principio de Responsabilidad Única (SRP)\n",
    "        Cada clase tiene una única responsabilidad:\n",
    "        Pizza y Burger manejan la preparación y el servicio de la comida.\n",
    "        PizzaFactory y BurgerFactory se encargan de la creación de instancias de Pizza y Burger.\n",
    "        client se encarga de la lógica de ejecución sin conocer los detalles de los objetos creados.\n",
    "    \n",
    "    O - Principio de Abierto/Cerrado (OCP)\n",
    "        Se pueden agregar nuevos tipos de comida sin modificar las clases existentes, simplemente creando nuevas clases que implementen IFood y IFoodFactory.\n",
    "    \n",
    "    L - Principio de Sustitución de Liskov (LSP)\n",
    "        Pizza y Burger pueden ser utilizadas donde se espera un IFood, y PizzaFactory y BurgerFactory pueden sustituir a IFoodFactory sin afectar el comportamiento del código.\n",
    "    \n",
    "    I - Principio de Segregación de Interfaces (ISP)\n",
    "        Las interfaces IFood y IFoodFactory aseguran que las clases solo implementen los métodos que realmente necesitan.\n",
    "    \n",
    "    D - Principio de Inversión de Dependencias (DIP)\n",
    "    client no depende de implementaciones concretas, sino de las abstracciones IFoodFactory y IFood."
   ]
  },
  {
   "cell_type": "markdown",
   "metadata": {},
   "source": [
    "Adicionalmente se satisfacen los siguientes principios GRASP:\n",
    "\n",
    "    1 - Creator\n",
    "        PizzaFactory y BurgerFactory siguen el patrón Factory Method y son responsables de crear instancias de Pizza y Burger.\n",
    "\n",
    "    2 - Polimorfismo\n",
    "        Se utiliza polimorfismo al definir métodos abstractos en IFood y IFoodFactory, permitiendo que Pizza y Burger los implementen sin que el código cliente necesite conocer los detalles.\n",
    "\n",
    "    3 - Indirection\n",
    "        Se usa la fábrica como intermediario entre el cliente y la creación de objetos concretos, reduciendo el acoplamiento.\n",
    "\n",
    "    4 - Low Coupling\n",
    "        client no depende de implementaciones específicas, sino de interfaces, lo que facilita la extensibilidad y el mantenimiento del código.\n",
    "\n",
    "    5 - High Cohesion\n",
    "        Cada clase tiene una única razón para cambiar y está enfocada en una tarea específica, lo que mejora la cohesión."
   ]
  },
  {
   "cell_type": "markdown",
   "metadata": {},
   "source": [
    "## Abstract factory\n",
    "permite producir familias de objetos relacionados sin especificar sus clases concretas."
   ]
  },
  {
   "cell_type": "code",
   "execution_count": 7,
   "metadata": {},
   "outputs": [],
   "source": [
    "from abc import ABC, abstractmethod\n",
    "# product Warrior\n",
    "class IWarriorClass(ABC):\n",
    "    @abstractmethod\n",
    "    def weapon_smash(self):\n",
    "        pass\n",
    "    \n",
    "    @abstractmethod\n",
    "    def weapon_block(self):\n",
    "        pass\n",
    "\n",
    "class HumanWarrior(IWarriorClass):\n",
    "    weapon = \"sns\"\n",
    "\n",
    "    def weapon_smash(self):\n",
    "        print(f\"Human warrior smash with {self.weapon}\")\n",
    "    \n",
    "    def weapon_block(self):\n",
    "        print(f\"Human warrior block with {self.weapon}\")\n",
    "\n",
    "class OrcWarrior(IWarriorClass):\n",
    "    weapon = \"axe\"\n",
    "\n",
    "    def weapon_smash(self):\n",
    "        print(f\"Orc warrior smash with {self.weapon}\")\n",
    "\n",
    "    def weapon_block(self):\n",
    "        print(f\"Orc warrior block with {self.weapon}\")"
   ]
  },
  {
   "cell_type": "code",
   "execution_count": 8,
   "metadata": {},
   "outputs": [],
   "source": [
    "from abc import ABC, abstractmethod\n",
    "# Product Mage\n",
    "class IMageClass(ABC):\n",
    "    @abstractmethod\n",
    "    def cast_magic(self):\n",
    "        pass\n",
    "\n",
    "class HumanMage(IMageClass):\n",
    "    spell = \"pyroblast\"\n",
    "\n",
    "    def cast_magic(self):\n",
    "        print(f\"Human Mage cast {self.spell}\")\n",
    "\n",
    "class OrcMage(IMageClass):\n",
    "    spell = \"icebolt\"\n",
    "\n",
    "    def cast_magic(self):\n",
    "        print(f\"Orc Mage cast {self.spell}\")"
   ]
  },
  {
   "cell_type": "code",
   "execution_count": 9,
   "metadata": {},
   "outputs": [
    {
     "name": "stdout",
     "output_type": "stream",
     "text": [
      "Human warrior smash with sns\n",
      "Human warrior block with sns\n",
      "Human Mage cast pyroblast\n",
      "Orc warrior smash with axe\n",
      "Orc warrior block with axe\n",
      "Orc Mage cast icebolt\n"
     ]
    }
   ],
   "source": [
    "from abc import ABC, abstractmethod\n",
    "# InterfaceFactory\n",
    "class ICharacterFactory(ABC):\n",
    "    @abstractmethod\n",
    "    def create_warrior(self):\n",
    "        pass\n",
    "\n",
    "    @abstractmethod\n",
    "    def create_mage(self):\n",
    "        pass\n",
    "\n",
    "# HumanFactory and OrcFactory\n",
    "class HumanFactory(ICharacterFactory):\n",
    "    def create_warrior(self):\n",
    "        return HumanWarrior()\n",
    "\n",
    "    def create_mage(self):\n",
    "        return HumanMage()\n",
    "    \n",
    "class OrcFactory(ICharacterFactory):\n",
    "    def create_warrior(self):\n",
    "        return OrcWarrior()\n",
    "\n",
    "    def create_mage(self):\n",
    "        return OrcMage()\n",
    "    \n",
    "def client(factory: ICharacterFactory):\n",
    "    warrior = factory.create_warrior()  \n",
    "    warrior.weapon_smash()\n",
    "    warrior.weapon_block()\n",
    "\n",
    "    mage = factory.create_mage()\n",
    "    mage.cast_magic()\n",
    "\n",
    "if __name__ == \"__main__\":\n",
    "    client(HumanFactory())\n",
    "    client(OrcFactory())\n"
   ]
  },
  {
   "cell_type": "markdown",
   "metadata": {},
   "source": [
    "# Prototype\n",
    "Permite copiar objetos existente sin que el código dependa de sus clases, ideal para clases que poseen valores encapsulados y que se desea replicar sus características"
   ]
  },
  {
   "cell_type": "code",
   "execution_count": 4,
   "metadata": {},
   "outputs": [
    {
     "name": "stdout",
     "output_type": "stream",
     "text": [
      "Dragon attack with 20 damage\n",
      "\n",
      "Dragon attack with 20 damage\n",
      "\n",
      "Dragon attack with 15 damage\n",
      "\n",
      "Dragon attack with 20 damage\n",
      "\n"
     ]
    }
   ],
   "source": [
    "from abc import ABC, abstractmethod\n",
    "# Interface Prototype\n",
    "\n",
    "from os import name\n",
    "\n",
    "\n",
    "class EnemyCharacterPrototype(ABC):\n",
    "    def __init__(self, type: str, health: int, damage: int):\n",
    "        self.type = type\n",
    "        self.health = health\n",
    "        self.damage = damage\n",
    "\n",
    "    @abstractmethod\n",
    "    def attack(self):\n",
    "        pass\n",
    "\n",
    "    @abstractmethod\n",
    "    def nerf(self):\n",
    "        pass\n",
    "\n",
    "    @abstractmethod\n",
    "    def clone(self):\n",
    "        pass\n",
    "\n",
    "\n",
    "class DragonPrototype(EnemyCharacterPrototype):\n",
    "    def __init__(self):\n",
    "        super().__init__(\"Dragon\", 200, 20)\n",
    "\n",
    "    def attack(self):\n",
    "        print(f\"{self.type} attack with {self.damage} damage\\n\")\n",
    "    def clone(self):\n",
    "        return DragonPrototype()\n",
    "    def nerf(self):\n",
    "        self.damage -= 5\n",
    "\n",
    "if __name__ == \"__main__\":\n",
    "    #Instanciamos un dragon\n",
    "    dragon = DragonPrototype()\n",
    "    dragon.attack()\n",
    "\n",
    "    # Clonamos el dragon\n",
    "    dragon2 = dragon.clone()\n",
    "    dragon2.attack()\n",
    "\n",
    "    # Validamos que las clases quedan instanciadas en espacios de memoria diferentes\n",
    "    dragon.nerf()\n",
    "    dragon.attack()\n",
    "    dragon2.attack()"
   ]
  },
  {
   "cell_type": "markdown",
   "metadata": {},
   "source": [
    "# Singleton\n",
    "permite asegurarnos de que una clase tenga una única instancia, a la vez que proporciona un punto de acceso global a dicha instancia."
   ]
  },
  {
   "cell_type": "code",
   "execution_count": 4,
   "metadata": {},
   "outputs": [
    {
     "name": "stdout",
     "output_type": "stream",
     "text": [
      "Pedro\n",
      "Pablo\n",
      "Pablo\n"
     ]
    }
   ],
   "source": [
    "class Boss:\n",
    "    __instance = None\n",
    "\n",
    "    def __new__(cls):\n",
    "        if cls.__instance is None:\n",
    "            cls.__instance = super().__new__(cls)\n",
    "        return cls.__instance\n",
    "    \n",
    "    def set_name(self, name):\n",
    "        self.name = name\n",
    "\n",
    "    def get_name(self):\n",
    "        return self.name\n",
    "    \n",
    "if __name__ == \"__main__\":\n",
    "    boss1 = Boss()\n",
    "    boss2 = Boss()\n",
    "\n",
    "    boss1.set_name(\"Pedro\")\n",
    "    print(boss1.get_name())\n",
    "    \n",
    "\n",
    "    boss2.set_name(\"Pablo\")\n",
    "    print(boss2.get_name())\n",
    "\n",
    "    print(boss1.get_name())\n",
    "  \n"
   ]
  },
  {
   "cell_type": "markdown",
   "metadata": {},
   "source": [
    "# Multiton\n",
    "Multiton es una extensión del patrón Singleton, donde en lugar de tener una única instancia global, se gestionan múltiples instancias identificadas y localizables mediante una variable de clave/valor."
   ]
  },
  {
   "cell_type": "markdown",
   "metadata": {},
   "source": [
    "El patron multiton se puede implementar en una aplicación que realiza conexiones a diferentes bases de datos, en este caso crearemos una clase que instanciará diferentes singleton asociados a la conexion de una base de datos diferente para que ésta conexion no se produzca múltiples veces cada vez que se instancia la conexion"
   ]
  },
  {
   "cell_type": "code",
   "execution_count": 10,
   "metadata": {},
   "outputs": [
    {
     "name": "stdout",
     "output_type": "stream",
     "text": [
      "Creating new instance for mysql\n",
      "Creating new instance for PGsql\n",
      "Creating new instance for sqlite\n",
      "\n",
      "Executing query SELECT * FROM users in mysql\n",
      "Executing query SELECT * FROM products in PGsql\n",
      "Executing query SELECT * FROM store\n",
      " in sqlite\n",
      "\n",
      "Executing query SELECT * FROM products\n",
      " in mysql\n",
      "5162417358122147043\n",
      "5162417358122147043\n"
     ]
    }
   ],
   "source": [
    "class DatabaseConnection:\n",
    "    __instances = {} #Creamos un diccionario para almacenar los singleton\n",
    "\n",
    "    def __new__(cls, db_name):\n",
    "        if db_name not in cls.__instances:\n",
    "            instance = super().__new__(cls)\n",
    "            instance.db_name = db_name\n",
    "            instance.id = hash(db_name)\n",
    "            print(f\"Creating new instance for {db_name}\")\n",
    "            cls.__instances[db_name] = instance\n",
    "        return cls.__instances[db_name]\n",
    "    \n",
    "    def query(self, sql):\n",
    "        print(f\"Executing query {sql} in {self.db_name}\")\n",
    "\n",
    "if __name__ == \"__main__\":\n",
    "    # Creamos 3 instancias de la clase DatabaseConnection\n",
    "    db1 = DatabaseConnection(\"mysql\")\n",
    "    db2 = DatabaseConnection(\"PGsql\")\n",
    "    db3 = DatabaseConnection(\"sqlite\\n\")\n",
    "\n",
    "    # Validamos la funcionalidad\n",
    "    db1.query(\"SELECT * FROM users\")\n",
    "    db2.query(\"SELECT * FROM products\")\n",
    "    db3.query(\"SELECT * FROM store\\n\")\n",
    "\n",
    "    # Creamos otra instancia de una conexion a mysql\n",
    "    db4 = DatabaseConnection(\"mysql\")\n",
    "    db4.query(\"SELECT * FROM products\\n\")\n",
    "    \n",
    "    # Validamos que las instancias sean las mismas\n",
    "    print(db1.id)\n",
    "    print(db4.id)"
   ]
  },
  {
   "cell_type": "code",
   "execution_count": null,
   "metadata": {},
   "outputs": [],
   "source": []
  }
 ],
 "metadata": {
  "kernelspec": {
   "display_name": "venv",
   "language": "python",
   "name": "python3"
  },
  "language_info": {
   "codemirror_mode": {
    "name": "ipython",
    "version": 3
   },
   "file_extension": ".py",
   "mimetype": "text/x-python",
   "name": "python",
   "nbconvert_exporter": "python",
   "pygments_lexer": "ipython3",
   "version": "3.11.3"
  }
 },
 "nbformat": 4,
 "nbformat_minor": 2
}
