{
 "cells": [
  {
   "cell_type": "markdown",
   "metadata": {},
   "source": [
    "## Factory\n",
    "Proporciona una interfaz para crear objetos en una superclase, mientras permite a las subclases alterar el tipo de objetos que se crearán."
   ]
  },
  {
   "cell_type": "code",
   "execution_count": 5,
   "metadata": {},
   "outputs": [
    {
     "name": "stdout",
     "output_type": "stream",
     "text": [
      "Pizza is preparing...\n",
      "Pizza is serving...\n",
      "Burger is preparing...\n",
      "Burger is serving...\n"
     ]
    }
   ],
   "source": [
    "from typing import List\n",
    "from abc import ABC, abstractmethod\n",
    "\n",
    "# Interface factory\n",
    "class IFoodFactory(ABC):\n",
    "    @abstractmethod\n",
    "    def create_food(self):\n",
    "        pass\n",
    "\n",
    "class PizzaFactory(IFoodFactory):\n",
    "    def create_food(self):\n",
    "        return Pizza()\n",
    "    \n",
    "class BurgerFactory(IFoodFactory):\n",
    "    def create_food(self):\n",
    "        return Burger()\n",
    "\n",
    "# Interface product\n",
    "class IFood(ABC):\n",
    "    @abstractmethod\n",
    "    def prepare(self):\n",
    "        pass\n",
    "\n",
    "    @abstractmethod\n",
    "    def serve(self):\n",
    "        pass\n",
    "\n",
    "class Pizza(IFood):\n",
    "    def prepare(self):\n",
    "        print(\"Pizza is preparing...\")\n",
    "\n",
    "    def serve(self):\n",
    "        print(\"Pizza is serving...\")\n",
    "\n",
    "class Burger(IFood):\n",
    "    def prepare(self):\n",
    "        print(\"Burger is preparing...\")\n",
    "\n",
    "    def serve(self):\n",
    "        print(\"Burger is serving...\")\n",
    "\n",
    "# Client execute function\n",
    "def client(food_factory: IFoodFactory):\n",
    "    food = food_factory.create_food()\n",
    "    food.prepare()\n",
    "    food.serve()\n",
    "\n",
    "if __name__ == \"__main__\":\n",
    "    client(PizzaFactory())\n",
    "    client(BurgerFactory())"
   ]
  },
  {
   "cell_type": "markdown",
   "metadata": {},
   "source": [
    "## Abstract factory\n",
    "permite producir familias de objetos relacionados sin especificar sus clases concretas."
   ]
  },
  {
   "cell_type": "code",
   "execution_count": 7,
   "metadata": {},
   "outputs": [],
   "source": [
    "# product Warrior\n",
    "class IWarriorClass(ABC):\n",
    "    @abstractmethod\n",
    "    def weapon_smash(self):\n",
    "        pass\n",
    "    \n",
    "    @abstractmethod\n",
    "    def weapon_block(self):\n",
    "        pass\n",
    "\n",
    "class HumanWarrior(IWarriorClass):\n",
    "    weapon = \"sns\"\n",
    "\n",
    "    def weapon_smash(self):\n",
    "        print(f\"Human warrior smash with {self.weapon}\")\n",
    "    \n",
    "    def weapon_block(self):\n",
    "        print(f\"Human warrior block with {self.weapon}\")\n",
    "\n",
    "class OrcWarrior(IWarriorClass):\n",
    "    weapon = \"axe\"\n",
    "\n",
    "    def weapon_smash(self):\n",
    "        print(f\"Orc warrior smash with {self.weapon}\")\n",
    "\n",
    "    def weapon_block(self):\n",
    "        print(f\"Orc warrior block with {self.weapon}\")"
   ]
  },
  {
   "cell_type": "code",
   "execution_count": 8,
   "metadata": {},
   "outputs": [],
   "source": [
    "# Product Mage\n",
    "class IMageClass(ABC):\n",
    "    @abstractmethod\n",
    "    def cast_magic(self):\n",
    "        pass\n",
    "\n",
    "class HumanMage(IMageClass):\n",
    "    spell = \"pyroblast\"\n",
    "\n",
    "    def cast_magic(self):\n",
    "        print(f\"Human Mage cast {self.spell}\")\n",
    "\n",
    "class OrcMage(IMageClass):\n",
    "    spell = \"icebolt\"\n",
    "\n",
    "    def cast_magic(self):\n",
    "        print(f\"Orc Mage cast {self.spell}\")"
   ]
  },
  {
   "cell_type": "code",
   "execution_count": 9,
   "metadata": {},
   "outputs": [
    {
     "name": "stdout",
     "output_type": "stream",
     "text": [
      "Human warrior smash with sns\n",
      "Human warrior block with sns\n",
      "Human Mage cast pyroblast\n",
      "Orc warrior smash with axe\n",
      "Orc warrior block with axe\n",
      "Orc Mage cast icebolt\n"
     ]
    }
   ],
   "source": [
    "# InterfaceFactory\n",
    "class ICharacterFactory(ABC):\n",
    "    @abstractmethod\n",
    "    def create_warrior(self):\n",
    "        pass\n",
    "\n",
    "    @abstractmethod\n",
    "    def create_mage(self):\n",
    "        pass\n",
    "\n",
    "# HumanFactory and OrcFactory\n",
    "class HumanFactory(ICharacterFactory):\n",
    "    def create_warrior(self):\n",
    "        return HumanWarrior()\n",
    "\n",
    "    def create_mage(self):\n",
    "        return HumanMage()\n",
    "    \n",
    "class OrcFactory(ICharacterFactory):\n",
    "    def create_warrior(self):\n",
    "        return OrcWarrior()\n",
    "\n",
    "    def create_mage(self):\n",
    "        return OrcMage()\n",
    "    \n",
    "def client(factory: ICharacterFactory):\n",
    "    warrior = factory.create_warrior()  \n",
    "    warrior.weapon_smash()\n",
    "    warrior.weapon_block()\n",
    "\n",
    "    mage = factory.create_mage()\n",
    "    mage.cast_magic()\n",
    "\n",
    "if __name__ == \"__main__\":\n",
    "    client(HumanFactory())\n",
    "    client(OrcFactory())\n"
   ]
  }
 ],
 "metadata": {
  "kernelspec": {
   "display_name": "venv",
   "language": "python",
   "name": "python3"
  },
  "language_info": {
   "codemirror_mode": {
    "name": "ipython",
    "version": 3
   },
   "file_extension": ".py",
   "mimetype": "text/x-python",
   "name": "python",
   "nbconvert_exporter": "python",
   "pygments_lexer": "ipython3",
   "version": "3.11.3"
  }
 },
 "nbformat": 4,
 "nbformat_minor": 2
}
