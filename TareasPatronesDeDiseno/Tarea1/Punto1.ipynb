{
 "cells": [
  {
   "cell_type": "markdown",
   "metadata": {},
   "source": [
    "## Definicion del contexto\n",
    "\n",
    "El contexto con el que quiero trabajar mi tarea es un proyecto personal en el que me encuentro trabajando el cual corresponde a un bot de trading algorítmico basado en señales. Éste toma estrategias de inversion usando indicadores técnicos y genera señales de compra y venta que ejecuta en los mercados a los que se encuentra conectado mediante API rest o recibiendo datos de manera ágil usando websockets de algunos comercios."
   ]
  },
  {
   "cell_type": "markdown",
   "metadata": {},
   "source": [
    "![TradingBot](TradingBot.png)"
   ]
  },
  {
   "cell_type": "markdown",
   "metadata": {},
   "source": [
    "## Identificacion de requerimientos asociados al caso de uso:\n",
    "\n",
    "Dentro de los posibles requerimientos asociados al caso de uso tenemos:\n",
    "(Click para abrir cada item)\n",
    "<details>\n",
    "<summary>Soporte para múltiples estrategias de trading</summary>\n",
    "\n",
    "- **Problema:** El bot debe poder operar con diferentes estrategias (como medias móviles, RSI, MACD), sin que el código tenga que modificarse cada vez que se agrega una nueva estrategia.  \n",
    "- **Patrón propuesto:** Factory Method  \n",
    "- **Justificación:** Permite la creación dinámica de estrategias de trading sin acoplar la lógica del bot a una implementación específica, facilitando la extensión y el mantenimiento.  \n",
    "</details>\n",
    "\n",
    "<details>\n",
    "<summary>Conexión con múltiples exchanges</summary>\n",
    "\n",
    "- **Problema:** El bot debe integrarse y conectarse a diferentes exchanges, cada uno con sus propias APIs y protocolos (por ejemplo, Binance, Coinbase, KuCoin).  \n",
    "- **Patrón propuesto:** Abstract Factory  \n",
    "- **Justificación:** Facilita la creación de familias de objetos relacionados (cliente API, autenticador, parser de datos) sin exponer las clases concretas, garantizando la compatibilidad y el desacoplamiento entre los diferentes exchanges.  \n",
    "</details>\n",
    "\n",
    "<details>\n",
    "<summary>Configuración flexible del bot</summary>\n",
    "\n",
    "- **Problema:** El bot requiere una configuración compleja y flexible que incluya parámetros como selección de estrategias, activos, límites de riesgo, intervalos temporales y otros ajustes operativos.  \n",
    "- **Patrón propuesto:** Builder  \n",
    "- **Justificación:** Permite construir configuraciones paso a paso de manera legible y modular, evitando constructores con demasiados parámetros y facilitando la personalización y extensión futura.  \n",
    "</details>\n",
    "\n",
    "<details>\n",
    "<summary>Gestión de instancias únicas</summary>\n",
    "\n",
    "- **Problema:** El bot necesita garantizar que ciertos componentes críticos (por ejemplo, el logger, gestor de configuración o conexión a base de datos) existan como una única instancia en toda la aplicación.  \n",
    "- **Patrón propuesto:** Singleton  \n",
    "- **Justificación:** Asegura que solo exista una instancia para componentes compartidos, lo que evita problemas de sincronización, duplicación de recursos y asegura la consistencia en el funcionamiento del sistema.  \n",
    "</details>\n",
    "\n",
    "<details>\n",
    "<summary>Duplicación eficiente de configuraciones</summary>\n",
    "\n",
    "- **Problema:** El bot requiere clonar objetos complejos que comparten configuraciones similares, como plantillas de órdenes o configuraciones de estrategias, para luego ajustarlas rápidamente a diferentes condiciones de mercado.  \n",
    "- **Patrón propuesto:** Prototype  \n",
    "- **Justificación:** Permite la clonación de objetos existentes y su posterior modificación sin necesidad de construirlos desde cero, ahorrando tiempo y recursos en la creación de objetos similares.  \n",
    "</details>\n",
    "\n",
    "<details>\n",
    "<summary>Optimización del uso de recursos</summary>\n",
    "\n",
    "- **Problema:** El bot debe gestionar de manera eficiente recursos costosos en su instanciación, como conexiones a APIs o módulos de análisis en tiempo real, para evitar sobrecargas y mejorar el rendimiento.  \n",
    "- **Patrón propuesto:** Object Pool  \n",
    "- **Justificación:** Facilita la reutilización de instancias ya creadas en lugar de generar nuevas constantemente, reduciendo la latencia y optimizando el uso de recursos.  \n",
    "</details>"
   ]
  },
  {
   "cell_type": "markdown",
   "metadata": {},
   "source": [
    "## Contexto integrado en la tarea:\n",
    "\n",
    "Para la actividad propuesta resolveremos los siguientes:\n",
    "\n",
    "- **Soporte para múltiples estrategias**  ya que el bot debe reaccionar a diferentes condiciones de mercado. Utilizando el Factory Method, el bot puede crear instancias de estrategias de trading de forma dinámica, permitiendo agregar o modificar estrategias sin afectar el comportamiento general del sistema.\n",
    "\n",
    "- **Conexión con múltiples exchanges** es importante para diversificar la operativa y aprovechar las oportunidades de inversion en distintos mercados. Con el Abstract Factory, se pueden generar conjuntos de objetos relacionados (como clientes API y módulos de autenticación) para cada exchange, manteniendo una interfaz común y desacoplada.\n",
    "\n",
    "- **Configuración flexible del bot** es necesaria para adaptarse a distintas condiciones operativas y perfiles de riesgo. El patrón Builder permite construir configuraciones de manera escalonada, modular y basada en plantillas base, facilitando la personalización y el mantenimiento del sistema conforme evoluciona la expansion del bot.\n",
    "\n",
    "Esta combinación de problemas y patrones permite que el bot se adapte de forma ágil a cambios en el mercado, incorpore nuevas estrategias y se conecte de manera práctica a múltiples comercios."
   ]
  },
  {
   "cell_type": "markdown",
   "metadata": {},
   "source": [
    "## Impementacion **Soporte para múltiples estrategias**"
   ]
  },
  {
   "cell_type": "markdown",
   "metadata": {},
   "source": [
    "![FactoryUML](Factory.svg)"
   ]
  },
  {
   "cell_type": "code",
   "execution_count": 2,
   "metadata": {},
   "outputs": [
    {
     "name": "stdout",
     "output_type": "stream",
     "text": [
      "Ejecutando estrategia de medias móviles long:50 short:20\n",
      "Ejecutando estrategia RSI range:14 upper:70 lower:30\n",
      "Ejecutando estrategia MACD long:26 short:12 signal:9\n"
     ]
    }
   ],
   "source": [
    "from abc import ABC, abstractmethod\n",
    "\n",
    "# Interfaz de la estrategia\n",
    "class Strategy(ABC):\n",
    "    @abstractmethod\n",
    "    def execute(self):\n",
    "        \"\"\"Ejecutar la estrategia de trading.\"\"\"\n",
    "        pass\n",
    "\n",
    "# Implementaciones De estrategias\n",
    "class MovingAverageStrategy(Strategy):\n",
    "\n",
    "    def __init__(self, ema_long_range, ema_short_range):\n",
    "        self.ema_long_range: int= ema_long_range\n",
    "        self.ema_short_range: int = ema_short_range\n",
    "\n",
    "    def execute(self):\n",
    "        print(\"Ejecutando estrategia de medias móviles long:{} short:{}\"\n",
    "              .format(self.ema_long_range, self.ema_short_range))\n",
    "\n",
    "class RSIStrategy(Strategy):\n",
    "    def __init__(self, rsi_range,upper_limit, lower_limit):\n",
    "        self.rsi_range: int = rsi_range\n",
    "        self.upper_limit: float = upper_limit\n",
    "        self.lower_limit: float = lower_limit\n",
    "\n",
    "    def execute(self):\n",
    "        print(\"Ejecutando estrategia RSI range:{} upper:{} lower:{}\"\n",
    "              .format(self.rsi_range, self.upper_limit, self.lower_limit))\n",
    "\n",
    "class MACDStrategy(Strategy):\n",
    "    def __init__(self, ema_long_range, ema_short_range, signal_range):\n",
    "        self.ema_long_range: int = ema_long_range\n",
    "        self.ema_short_range: int = ema_short_range\n",
    "        self.signal_range: int = signal_range\n",
    "\n",
    "    def execute(self):\n",
    "        print(\"Ejecutando estrategia MACD long:{} short:{} signal:{}\"\n",
    "              .format(self.ema_long_range, self.ema_short_range, self.signal_range))\n",
    "\n",
    "# Fábrica Abstracta (Creador Base)\n",
    "class StrategyCreator(ABC):\n",
    "    @abstractmethod\n",
    "    def create_strategy(self) -> Strategy:\n",
    "        \"\"\"Método que debe implementar cada creador concreto\"\"\"\n",
    "        pass\n",
    "\n",
    "# Fábricas Concretas\n",
    "class MovingAverageCreator(StrategyCreator):\n",
    "    def create_strategy(self,**kwargs) -> MovingAverageStrategy:\n",
    "        return MovingAverageStrategy(**kwargs)\n",
    "\n",
    "class RSICreator(StrategyCreator):\n",
    "    def create_strategy(self,**kwargs) -> RSIStrategy:\n",
    "        return RSIStrategy(**kwargs)\n",
    "\n",
    "class MACDCreator(StrategyCreator):\n",
    "    def create_strategy(self,**kwargs) -> MACDStrategy:\n",
    "        return MACDStrategy(**kwargs)\n",
    "\n",
    "\n",
    "# Uso\n",
    "if __name__ == \"__main__\":\n",
    "    strategy1 = MovingAverageCreator().create_strategy(ema_long_range=50, ema_short_range=20)\n",
    "    strategy2 = RSICreator().create_strategy(rsi_range=14, upper_limit=70, lower_limit=30)\n",
    "    strategy3 = MACDCreator().create_strategy(ema_long_range=26, ema_short_range=12, signal_range=9)\n",
    "    \n",
    "    strategy1.execute()\n",
    "    strategy2.execute()\n",
    "    strategy3.execute()\n",
    "    \n"
   ]
  },
  {
   "cell_type": "markdown",
   "metadata": {},
   "source": [
    "## Impementacion **Conexión con múltiples exchanges**"
   ]
  },
  {
   "cell_type": "markdown",
   "metadata": {},
   "source": [
    "AQUI VA EL UML"
   ]
  },
  {
   "cell_type": "code",
   "execution_count": 10,
   "metadata": {},
   "outputs": [
    {
     "name": "stdout",
     "output_type": "stream",
     "text": [
      "Conectando a Binance\n",
      "Autenticando en Binance\n"
     ]
    }
   ],
   "source": [
    "\n",
    "# Interfaces para componentes de exchange\n",
    "class ExchangeAPI(ABC):\n",
    "    @abstractmethod\n",
    "    def connect(self):\n",
    "        \"\"\"Conecta con el exchange.\"\"\"\n",
    "        pass\n",
    "\n",
    "class Authentication(ABC):\n",
    "    @abstractmethod\n",
    "    def authenticate(self):\n",
    "        \"\"\"Realiza la autenticación en el exchange.\"\"\"\n",
    "        pass\n",
    "\n",
    "# Implementaciones para Binance\n",
    "class BinanceAPI(ExchangeAPI):\n",
    "    def connect(self):\n",
    "        print(\"Conectando a Binance\")\n",
    "        pass\n",
    "\n",
    "class BinanceAuth(Authentication):\n",
    "    def authenticate(self):\n",
    "        print(\"Autenticando en Binance\")\n",
    "        pass\n",
    "\n",
    "# Implementaciones para Coinbase\n",
    "class CoinbaseAPI(ExchangeAPI):\n",
    "    def connect(self):\n",
    "        print(\"Conectando a Coinbase\")\n",
    "        pass\n",
    "\n",
    "class CoinbaseAuth(Authentication):\n",
    "    def authenticate(self):\n",
    "        print(\"Autenticando en Coinbase\")\n",
    "        pass\n",
    "\n",
    "# Fabricas abstractas para crear componentes relacionados de un exchange\n",
    "class ExchangeFactory(ABC):\n",
    "    @abstractmethod\n",
    "    def create_api(self) -> ExchangeAPI:\n",
    "        \"\"\"Crea una instancia de la API del exchange.\"\"\"\n",
    "        pass\n",
    "\n",
    "    @abstractmethod\n",
    "    def create_auth(self) -> Authentication:\n",
    "        \"\"\"Crea una instancia de la autenticación del exchange.\"\"\"\n",
    "        pass\n",
    "\n",
    "class BinanceFactory(ExchangeFactory):\n",
    "    def create_api(self) -> ExchangeAPI:\n",
    "        return BinanceAPI()\n",
    "\n",
    "    def create_auth(self) -> Authentication:\n",
    "        return BinanceAuth()\n",
    "\n",
    "class CoinbaseFactory(ExchangeFactory):\n",
    "    def create_api(self) -> ExchangeAPI:\n",
    "        return CoinbaseAPI()\n",
    "\n",
    "    def create_auth(self) -> Authentication:\n",
    "        return CoinbaseAuth()\n",
    "    \n",
    "# Cliente de uso\n",
    "def ExchangeClient(factory: ExchangeFactory):\n",
    "    api = factory.create_api()\n",
    "    auth = factory.create_auth()\n",
    "\n",
    "    return api, auth\n",
    "\n",
    "# Uso\n",
    "if __name__ == \"__main__\":\n",
    "    api,auth = ExchangeClient(BinanceFactory())\n",
    "    api.connect()\n",
    "    auth.authenticate()\n"
   ]
  },
  {
   "cell_type": "markdown",
   "metadata": {},
   "source": [
    "## Implementacion **Configuración flexible del bot**"
   ]
  },
  {
   "cell_type": "markdown",
   "metadata": {},
   "source": [
    "AQUI VA EL UML"
   ]
  },
  {
   "cell_type": "code",
   "execution_count": 11,
   "metadata": {},
   "outputs": [],
   "source": [
    "class BotConfig:\n",
    "    def __init__(self):\n",
    "        self.strategy = None\n",
    "        self.exchange_factory = None\n",
    "        self.risk_limit = None\n",
    "        self.assets = None\n",
    "\n",
    "    def __str__(self):\n",
    "        return (f\"BotConfig(strategy={self.strategy.__class__.__name__ if self.strategy else None}, \"\n",
    "                f\"exchange_factory={self.exchange_factory.__class__.__name__ if self.exchange_factory else None}, \"\n",
    "                f\"risk_limit={self.risk_limit}, assets={self.assets})\")\n",
    "\n",
    "class BotConfigBuilder:\n",
    "    def __init__(self):\n",
    "        self._strategy = None\n",
    "        self._exchange_factory = None\n",
    "        self._risk_limit = 0.0\n",
    "        self._assets = []\n",
    "\n",
    "    def set_strategy(self, strategy: Strategy):\n",
    "        self._strategy = strategy\n",
    "        return self\n",
    "\n",
    "    def set_exchange_factory(self, exchange_factory: ExchangeFactory):\n",
    "        self._exchange_factory = exchange_factory\n",
    "        return self\n",
    "\n",
    "    def set_risk_limit(self, risk_limit: float):\n",
    "        self._risk_limit = risk_limit\n",
    "        return self\n",
    "\n",
    "    def set_assets(self, assets: list):\n",
    "        self._assets = assets\n",
    "        return self\n",
    "\n",
    "    def build(self) -> BotConfig:\n",
    "\n",
    "        config = BotConfig()\n",
    "        config.strategy = self._strategy\n",
    "        config.exchange_factory = self._exchange_factory\n",
    "        config.risk_limit = self._risk_limit\n",
    "        config.assets = self._assets \n",
    "        return config\n",
    "        "
   ]
  },
  {
   "cell_type": "code",
   "execution_count": 12,
   "metadata": {},
   "outputs": [
    {
     "name": "stdout",
     "output_type": "stream",
     "text": [
      "Creando estrategia: RSIStrategy\n",
      "BotConfig(strategy=RSIStrategy, exchange_factory=BinanceFactory, risk_limit=0.05, assets=['BTC', 'ETH'])\n"
     ]
    }
   ],
   "source": [
    "if __name__ == \"__main__\":\n",
    "    # Crear una estrategia utilizando el Factory Method\n",
    "    strategy = RSICreator().get_strategy()\n",
    "    \n",
    "    # Seleccionar la factoría para Binance (con Abstract Factory)\n",
    "    exchange_factory = BinanceFactory()\n",
    "    \n",
    "    # Construir la configuración del bot utilizando el Builder Pattern\n",
    "    config_builder = BotConfigBuilder()\n",
    "    bot_config = (config_builder\n",
    "                .set_strategy(strategy)\n",
    "                .set_exchange_factory(exchange_factory)\n",
    "                .set_risk_limit(0.05)\n",
    "                .set_assets([\"BTC\", \"ETH\"])\n",
    "                .build())\n",
    "    \n",
    "    print(bot_config)"
   ]
  }
 ],
 "metadata": {
  "kernelspec": {
   "display_name": "Python 3",
   "language": "python",
   "name": "python3"
  },
  "language_info": {
   "codemirror_mode": {
    "name": "ipython",
    "version": 3
   },
   "file_extension": ".py",
   "mimetype": "text/x-python",
   "name": "python",
   "nbconvert_exporter": "python",
   "pygments_lexer": "ipython3",
   "version": "3.11.3"
  }
 },
 "nbformat": 4,
 "nbformat_minor": 2
}
