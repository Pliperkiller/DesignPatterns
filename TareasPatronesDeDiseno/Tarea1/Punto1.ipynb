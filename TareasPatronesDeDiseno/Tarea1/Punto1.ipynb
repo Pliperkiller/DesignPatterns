{
 "cells": [
  {
   "cell_type": "markdown",
   "metadata": {},
   "source": [
    "## Definicion del contexto\n",
    "\n",
    "El contexto con el que quiero trabajar mi tarea es un proyecto personal en el que me encuentro trabajando el cual corresponde a un bot de trading algorítmico basado en señales. Éste toma estrategias de inversion usando indicadores técnicos y genera señales de compra y venta que ejecuta en los mercados a los que se encuentra conectado mediante API rest o recibiendo datos de manera ágil usando websockets de algunos comercios."
   ]
  },
  {
   "cell_type": "markdown",
   "metadata": {},
   "source": [
    "![TradingBot](TradingBot.png)"
   ]
  },
  {
   "cell_type": "markdown",
   "metadata": {},
   "source": [
    "## Identificacion de requerimientos asociados al caso de uso:\n",
    "\n",
    "Dentro de los posibles requerimientos asociados al caso de uso tenemos:\n",
    "(Click para abrir cada item)\n",
    "<details>\n",
    "<summary>Soporte para múltiples estrategias de trading</summary>\n",
    "\n",
    "- **Problema:** El bot debe poder operar con diferentes estrategias (como medias móviles, RSI, MACD), sin que el código existente tenga que modificarse cada vez que se agrega una nueva estrategia.  \n",
    "- **Patrón propuesto:** Factory Method  \n",
    "- **Justificación:** Permite la creación dinámica de estrategias de trading sin acoplar la lógica del bot a una implementación específica, facilitando la extensión y el mantenimiento.  \n",
    "</details>\n",
    "\n",
    "<details>\n",
    "<summary>Conexión con múltiples exchanges</summary>\n",
    "\n",
    "- **Problema:** El bot debe integrarse y conectarse a diferentes exchanges, cada uno con sus propias APIs y protocolos (por ejemplo, Binance, Coinbase, KuCoin).  \n",
    "- **Patrón propuesto:** Abstract Factory  \n",
    "- **Justificación:** Facilita la creación de familias de objetos relacionados (cliente API, autenticador, parser de datos) sin exponer las clases concretas, garantizando la compatibilidad y el desacoplamiento entre los diferentes exchanges.  \n",
    "</details>\n",
    "\n",
    "<details>\n",
    "<summary>Configuración flexible del bot</summary>\n",
    "\n",
    "- **Problema:** El bot requiere una configuración compleja y flexible que incluya parámetros como selección de estrategias, activos, límites de riesgo, intervalos temporales y otros ajustes operativos.  \n",
    "- **Patrón propuesto:** Builder  \n",
    "- **Justificación:** Permite construir configuraciones paso a paso de manera legible y modular, evitando constructores con demasiados parámetros y facilitando la personalización y extensión futura.  \n",
    "</details>\n",
    "\n",
    "<details>\n",
    "<summary>Gestión de instancias únicas</summary>\n",
    "\n",
    "- **Problema:** El bot necesita garantizar que ciertos componentes críticos (por ejemplo, el logger, gestor de configuración o conexión a base de datos) existan como una única instancia en toda la aplicación.  \n",
    "- **Patrón propuesto:** Singleton  \n",
    "- **Justificación:** Asegura que solo exista una instancia para componentes compartidos, lo que evita problemas de sincronización, duplicación de recursos y asegura la consistencia en el funcionamiento del sistema.  \n",
    "</details>\n",
    "\n",
    "<details>\n",
    "<summary>Duplicación eficiente de configuraciones</summary>\n",
    "\n",
    "- **Problema:** El bot requiere clonar objetos complejos que comparten configuraciones similares, como plantillas de órdenes o configuraciones de estrategias, para luego ajustarlas rápidamente a diferentes condiciones de mercado.  \n",
    "- **Patrón propuesto:** Prototype  \n",
    "- **Justificación:** Permite la clonación de objetos existentes y su posterior modificación sin necesidad de construirlos desde cero, ahorrando tiempo y recursos en la creación de objetos similares.  \n",
    "</details>\n",
    "\n",
    "<details>\n",
    "<summary>Optimización del uso de recursos</summary>\n",
    "\n",
    "- **Problema:** El bot debe gestionar de manera eficiente recursos costosos en su instanciación, como conexiones a APIs o módulos de análisis en tiempo real o el despliegue de ordenes de compra para evitar sobrecargas y asegurar que funcione de manera óptima y segura.  \n",
    "- **Patrón propuesto:** Object Pool  \n",
    "- **Justificación:** Facilita la reutilización de instancias ya creadas en lugar de generar nuevas constantemente, reduciendo la latencia y optimizando el uso de recursos.  \n",
    "</details>"
   ]
  },
  {
   "cell_type": "markdown",
   "metadata": {},
   "source": [
    "## Contexto integrado en la tarea:\n",
    "\n",
    "Para la actividad propuesta resolveremos los siguientes:\n",
    "\n",
    "- **Soporte para múltiples estrategias**  ya que el bot debe reaccionar a diferentes condiciones de mercado. Utilizando el Factory Method, el bot puede crear instancias de estrategias de trading de forma dinámica, permitiendo agregar o modificar estrategias sin afectar el comportamiento general del sistema.\n",
    "\n",
    "- **Conexión con múltiples exchanges** es importante para diversificar la operativa y aprovechar las oportunidades de inversion en distintos mercados. Con el Abstract Factory, se pueden generar conjuntos de objetos relacionados (como clientes API y módulos de autenticación) para cada exchange, manteniendo una interfaz común y desacoplada.\n",
    "\n",
    "- **Configuración flexible del bot** es necesaria para adaptarse a distintas condiciones operativas y perfiles de riesgo. El patrón Builder permite construir configuraciones de manera escalonada, modular y basada en plantillas base, facilitando la personalización y el mantenimiento del sistema conforme evoluciona la expansion del bot.\n",
    "\n",
    "Esta combinación de problemas y patrones permite que el bot se adapte de forma ágil a cambios en el mercado, incorpore nuevas estrategias y se conecte de manera práctica a múltiples comercios."
   ]
  },
  {
   "cell_type": "markdown",
   "metadata": {},
   "source": [
    "## Impementacion **Soporte para múltiples estrategias**"
   ]
  },
  {
   "cell_type": "markdown",
   "metadata": {},
   "source": [
    "![FactoryUML](Factory.svg)"
   ]
  },
  {
   "cell_type": "code",
   "execution_count": 1,
   "metadata": {},
   "outputs": [],
   "source": [
    "from abc import ABC, abstractmethod\n",
    "\n",
    "# Interfaz de la estrategia\n",
    "class Strategy(ABC):\n",
    "    @abstractmethod\n",
    "    def execute(self):\n",
    "        \"\"\"Ejecutar la estrategia de trading.\"\"\"\n",
    "        pass\n",
    "\n",
    "# Fábrica Abstracta (Creador Base)\n",
    "class StrategyCreator(ABC):\n",
    "    @abstractmethod\n",
    "    def create_strategy(self) -> Strategy:\n",
    "        \"\"\"Método que debe implementar cada creador concreto\"\"\"\n",
    "        pass"
   ]
  },
  {
   "cell_type": "code",
   "execution_count": null,
   "metadata": {},
   "outputs": [],
   "source": [
    "from abc import ABC, abstractmethod\n",
    "\n",
    "# Implementaciones De estrategias\n",
    "class MovingAverageStrategy(Strategy):\n",
    "\n",
    "    def __init__(self, ema_long_range, ema_short_range):\n",
    "        self.ema_long_range: int= ema_long_range\n",
    "        self.ema_short_range: int = ema_short_range\n",
    "\n",
    "    def execute(self):\n",
    "        print(\"Ejecutando estrategia de medias móviles long:{} short:{}\"\n",
    "              .format(self.ema_long_range, self.ema_short_range))\n",
    "\n",
    "class RSIStrategy(Strategy):\n",
    "    def __init__(self, rsi_range,upper_limit, lower_limit):\n",
    "        self.rsi_range: int = rsi_range\n",
    "        self.upper_limit: float = upper_limit\n",
    "        self.lower_limit: float = lower_limit\n",
    "\n",
    "    def execute(self):\n",
    "        print(\"Ejecutando estrategia RSI range:{} upper:{} lower:{}\"\n",
    "              .format(self.rsi_range, self.upper_limit, self.lower_limit))\n",
    "\n",
    "class MACDStrategy(Strategy):\n",
    "    def __init__(self, ema_long_range, ema_short_range, signal_range):\n",
    "        self.ema_long_range: int = ema_long_range\n",
    "        self.ema_short_range: int = ema_short_range\n",
    "        self.signal_range: int = signal_range\n",
    "\n",
    "    def execute(self):\n",
    "        print(\"Ejecutando estrategia MACD long:{} short:{} signal:{}\"\n",
    "              .format(self.ema_long_range, self.ema_short_range, self.signal_range))\n",
    "\n",
    "# Fábricas Concretas\n",
    "class MovingAverageCreator(StrategyCreator):\n",
    "    def create_strategy(self,**kwargs) -> MovingAverageStrategy:\n",
    "        return MovingAverageStrategy(**kwargs)\n",
    "\n",
    "class RSICreator(StrategyCreator):\n",
    "    def create_strategy(self,**kwargs) -> RSIStrategy:\n",
    "        return RSIStrategy(**kwargs)\n",
    "\n",
    "class MACDCreator(StrategyCreator):\n",
    "    def create_strategy(self,**kwargs) -> MACDStrategy:\n",
    "        return MACDStrategy(**kwargs)"
   ]
  },
  {
   "cell_type": "code",
   "execution_count": 3,
   "metadata": {},
   "outputs": [
    {
     "name": "stdout",
     "output_type": "stream",
     "text": [
      "Ejecutando estrategia de medias móviles long:50 short:20\n",
      "Ejecutando estrategia RSI range:14 upper:70 lower:30\n",
      "Ejecutando estrategia MACD long:26 short:12 signal:9\n"
     ]
    }
   ],
   "source": [
    "# Uso\n",
    "if __name__ == \"__main__\":\n",
    "    strategy1 = MovingAverageCreator().create_strategy(ema_long_range=50, ema_short_range=20)\n",
    "    strategy2 = RSICreator().create_strategy(rsi_range=14, upper_limit=70, lower_limit=30)\n",
    "    strategy3 = MACDCreator().create_strategy(ema_long_range=26, ema_short_range=12, signal_range=9)\n",
    "    \n",
    "    strategy1.execute()\n",
    "    strategy2.execute()\n",
    "    strategy3.execute()"
   ]
  },
  {
   "cell_type": "markdown",
   "metadata": {},
   "source": [
    "## Impementacion **Conexión con múltiples exchanges**"
   ]
  },
  {
   "cell_type": "markdown",
   "metadata": {},
   "source": [
    "![AbstractFactoryUML](AbstractFactory.svg)"
   ]
  },
  {
   "cell_type": "code",
   "execution_count": 19,
   "metadata": {},
   "outputs": [],
   "source": [
    "from abc import ABC, abstractmethod\n",
    "\n",
    "# Credenciales para la conexión con el exchange suponga que se encuentran en una fuente fuera del codigo\n",
    "API_SECRET = \"api_secret\"\n",
    "API_KEY = \"api_key\"\n",
    "PASSPHRASE = \"passphrase\"\n",
    "\n",
    "# Interfaces para componentes de exchange\n",
    "\n",
    "## Interfaz que almacena el método de autenticación que usa la API\n",
    "class ClientAuth(ABC):\n",
    "    @abstractmethod\n",
    "    def read_credentials(self):\n",
    "        \"\"\"Lee las credenciales almacenadas en fuentes externas para poder conectar al cliente.\"\"\"\n",
    "        pass\n",
    "\n",
    "## Interfaz que realiza la conexion del cliente con el exchange\n",
    "class APIClient(ABC):\n",
    "\n",
    "    @abstractmethod\n",
    "    def __init__(self, name):\n",
    "        self.name: str = name\n",
    "        self.auth: ClientAuth = None\n",
    "        self.client = None\n",
    "\n",
    "    @abstractmethod\n",
    "    def set_cretentials(self, credentials: ClientAuth):\n",
    "        \"\"\"Lee las credenciales para conectar a la API.\"\"\"\n",
    "        pass\n",
    "\n",
    "    @abstractmethod\n",
    "    def connect(self):\n",
    "        \"\"\"Conecta con el exchange.\"\"\"\n",
    "        pass\n",
    "\n",
    "    @abstractmethod\n",
    "    def disconnect(self):\n",
    "        \"\"\"Desconecta del exchange.\"\"\"\n",
    "        pass"
   ]
  },
  {
   "cell_type": "code",
   "execution_count": 20,
   "metadata": {},
   "outputs": [],
   "source": [
    "# Implementaciones para Binance\n",
    "\n",
    "## La autenticacion de binance usa un api_key y un api_secret\n",
    "class BinanceAuth(ClientAuth):\n",
    "    def __init__(self):\n",
    "        self.api_key = None\n",
    "        self.api_secret = None\n",
    "\n",
    "    def read_credentials(self, **kwargs):\n",
    "        print(\"Leyendo credenciales de Binance\")\n",
    "        self.api_key = API_KEY\n",
    "        self.api_secret = API_SECRET\n",
    "\n",
    "\n",
    "class BinanceAPI(APIClient):\n",
    "    def __init__(self):\n",
    "        super().__init__(\"Binance\")\n",
    "\n",
    "    def set_cretentials(self, credentials: ClientAuth):\n",
    "        print(f\"Asignando credenciales {credentials} al autenticador\")\n",
    "        self.auth = credentials\n",
    "\n",
    "    def connect(self):\n",
    "        print(\"Conectando a Binance\")\n",
    "        self.client = \"Binance Client\"\n",
    "\n",
    "    def disconnect(self):\n",
    "        print(\"Desconectando de Binance\")\n",
    "        self.client = None\n",
    "\n"
   ]
  },
  {
   "cell_type": "code",
   "execution_count": 21,
   "metadata": {},
   "outputs": [],
   "source": [
    "# Implementaciones para OKX\n",
    "\n",
    "## La autenticacion de OKX requiere un api_key, api_secret y passphrase\n",
    "\n",
    "class OKXAuth(ClientAuth):\n",
    "    def __init__(self):\n",
    "        self.api_key = None\n",
    "        self.api_secret = None\n",
    "        self.passphrase = None\n",
    "    \n",
    "    def read_credentials(self):\n",
    "        print(\"Leyendo credenciales de OKX\")\n",
    "        self.api_key = API_KEY\n",
    "        self.api_secret = API_SECRET\n",
    "        self.passphrase = PASSPHRASE\n",
    "    \n",
    "class OKXAPI(APIClient):\n",
    "    def __init__(self):\n",
    "        super().__init__(\"OKX\")\n",
    "\n",
    "    def set_cretentials(self, credentials: ClientAuth):\n",
    "        print(f\"Asignando credenciales {credentials} al autenticador\")\n",
    "        self.auth = credentials\n",
    "    \n",
    "    def connect(self):\n",
    "        print(\"Conectando a OKX\")\n",
    "        self.client = \"OKX Client\"\n",
    "\n",
    "    def disconnect(self):\n",
    "        print(\"Desconectando de OKX\")"
   ]
  },
  {
   "cell_type": "code",
   "execution_count": 22,
   "metadata": {},
   "outputs": [],
   "source": [
    "from abc import ABC, abstractmethod\n",
    "\n",
    "# Fabricas abstractas para crear componentes relacionados de un exchange\n",
    "class ExchangeFactory(ABC):\n",
    "    @abstractmethod\n",
    "    def create_api(self) -> APIClient:\n",
    "        \"\"\"Crea una instancia de la API del exchange.\"\"\"\n",
    "        pass\n",
    "\n",
    "    @abstractmethod\n",
    "    def create_auth(self) -> ClientAuth:\n",
    "        \"\"\"Crea una instancia de la autenticación del exchange.\"\"\"\n",
    "        pass\n",
    "\n",
    "class BinanceFactory(ExchangeFactory):\n",
    "    def create_api(self) -> APIClient:\n",
    "        return BinanceAPI()\n",
    "\n",
    "    def create_auth(self) -> ClientAuth:\n",
    "        return BinanceAuth()\n",
    "    \n",
    "class OKXFactory(ExchangeFactory):\n",
    "    def create_api(self) -> APIClient:\n",
    "        return OKXAPI()\n",
    "    \n",
    "    def create_auth(self) -> ClientAuth:\n",
    "        return OKXAuth()"
   ]
  },
  {
   "cell_type": "code",
   "execution_count": 23,
   "metadata": {},
   "outputs": [
    {
     "name": "stdout",
     "output_type": "stream",
     "text": [
      "Asignando credenciales <__main__.BinanceAuth object at 0x0000029AB9825150> al autenticador\n",
      "Conectando a Binance\n",
      "Asignando credenciales <__main__.OKXAuth object at 0x0000029AB98FB210> al autenticador\n",
      "Conectando a OKX\n",
      "<__main__.BinanceAPI object at 0x0000029AB9E299D0>\n",
      "<__main__.OKXAPI object at 0x0000029AB9E1D690>\n"
     ]
    }
   ],
   "source": [
    "class Connector():\n",
    "    def __init__(self, exchange_factory: ExchangeFactory):\n",
    "        self.exchange_factory: ExchangeFactory = exchange_factory\n",
    "        self.client: APIClient = None\n",
    "        self.auth: ClientAuth = None\n",
    "\n",
    "    def connect(self):\n",
    "        self.client = self.exchange_factory.create_api()\n",
    "        self.auth = self.exchange_factory.create_auth()\n",
    "        self.client.set_cretentials(self.auth)\n",
    "        self.client.connect()\n",
    "    \n",
    "    def get_client(self):\n",
    "        return self.client\n",
    "\n",
    "# Uso\n",
    "if __name__ == \"__main__\":\n",
    "    binance_connector = Connector(BinanceFactory())\n",
    "    binance_connector.connect()\n",
    "    binance_client = binance_connector.get_client()\n",
    "\n",
    "    okx_connector = Connector(OKXFactory())\n",
    "    okx_connector.connect()\n",
    "    okx_client = okx_connector.get_client()\n",
    "\n",
    "    print(binance_client)\n",
    "    print(okx_client)"
   ]
  },
  {
   "cell_type": "markdown",
   "metadata": {},
   "source": [
    "## Implementacion **Configuración flexible del bot**"
   ]
  },
  {
   "cell_type": "markdown",
   "metadata": {},
   "source": [
    "AQUI VA EL UML"
   ]
  },
  {
   "cell_type": "code",
   "execution_count": 11,
   "metadata": {},
   "outputs": [],
   "source": [
    "class BotConfig:\n",
    "    def __init__(self):\n",
    "        self.strategy = None\n",
    "        self.exchange_factory = None\n",
    "        self.risk_limit = None\n",
    "        self.assets = None\n",
    "\n",
    "    def __str__(self):\n",
    "        return (f\"BotConfig(strategy={self.strategy.__class__.__name__ if self.strategy else None}, \"\n",
    "                f\"exchange_factory={self.exchange_factory.__class__.__name__ if self.exchange_factory else None}, \"\n",
    "                f\"risk_limit={self.risk_limit}, assets={self.assets})\")\n",
    "\n",
    "class BotConfigBuilder:\n",
    "    def __init__(self):\n",
    "        self._strategy = None\n",
    "        self._exchange_factory = None\n",
    "        self._risk_limit = 0.0\n",
    "        self._assets = []\n",
    "\n",
    "    def set_strategy(self, strategy: Strategy):\n",
    "        self._strategy = strategy\n",
    "        return self\n",
    "\n",
    "    def set_exchange_factory(self, exchange_factory: ExchangeFactory):\n",
    "        self._exchange_factory = exchange_factory\n",
    "        return self\n",
    "\n",
    "    def set_risk_limit(self, risk_limit: float):\n",
    "        self._risk_limit = risk_limit\n",
    "        return self\n",
    "\n",
    "    def set_assets(self, assets: list):\n",
    "        self._assets = assets\n",
    "        return self\n",
    "\n",
    "    def build(self) -> BotConfig:\n",
    "\n",
    "        config = BotConfig()\n",
    "        config.strategy = self._strategy\n",
    "        config.exchange_factory = self._exchange_factory\n",
    "        config.risk_limit = self._risk_limit\n",
    "        config.assets = self._assets \n",
    "        return config\n",
    "        "
   ]
  },
  {
   "cell_type": "code",
   "execution_count": 12,
   "metadata": {},
   "outputs": [
    {
     "name": "stdout",
     "output_type": "stream",
     "text": [
      "Creando estrategia: RSIStrategy\n",
      "BotConfig(strategy=RSIStrategy, exchange_factory=BinanceFactory, risk_limit=0.05, assets=['BTC', 'ETH'])\n"
     ]
    }
   ],
   "source": [
    "if __name__ == \"__main__\":\n",
    "    # Crear una estrategia utilizando el Factory Method\n",
    "    strategy = RSICreator().get_strategy()\n",
    "    \n",
    "    # Seleccionar la factoría para Binance (con Abstract Factory)\n",
    "    exchange_factory = BinanceFactory()\n",
    "    \n",
    "    # Construir la configuración del bot utilizando el Builder Pattern\n",
    "    config_builder = BotConfigBuilder()\n",
    "    bot_config = (config_builder\n",
    "                .set_strategy(strategy)\n",
    "                .set_exchange_factory(exchange_factory)\n",
    "                .set_risk_limit(0.05)\n",
    "                .set_assets([\"BTC\", \"ETH\"])\n",
    "                .build())\n",
    "    \n",
    "    print(bot_config)"
   ]
  }
 ],
 "metadata": {
  "kernelspec": {
   "display_name": "Python 3",
   "language": "python",
   "name": "python3"
  },
  "language_info": {
   "codemirror_mode": {
    "name": "ipython",
    "version": 3
   },
   "file_extension": ".py",
   "mimetype": "text/x-python",
   "name": "python",
   "nbconvert_exporter": "python",
   "pygments_lexer": "ipython3",
   "version": "3.11.3"
  }
 },
 "nbformat": 4,
 "nbformat_minor": 2
}
