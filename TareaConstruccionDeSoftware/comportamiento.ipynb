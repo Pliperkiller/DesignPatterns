{
  "cells": [
    {
      "cell_type": "markdown",
      "metadata": {
        "id": "rQUu1FROhdVH"
      },
      "source": [
        "# Command Pattern\n",
        "\n",
        "Este patron convierte una solicitud en un objeto independiente que contiene toda la información sobre la solicitud. Esta transformación permite parametrizar métodos con diferentes solicitudes, retrasar o poner en cola la ejecución de una solicitud y respaldar operaciones que no se pueden deshacer"
      ]
    },
    {
      "cell_type": "markdown",
      "metadata": {},
      "source": [
        "## Caso de Estudio\n",
        "\n",
        "Se requiere un sistema tal que los meseros tomen los pedidos y la cocina eejcute las órdenes de los pedidos"
      ]
    },
    {
      "cell_type": "code",
      "execution_count": 1,
      "metadata": {
        "colab": {
          "base_uri": "https://localhost:8080/"
        },
        "id": "Z25hLOcUhHZB",
        "outputId": "cdffe034-8439-4a25-89a6-fc9e46212237"
      },
      "outputs": [
        {
          "name": "stdout",
          "output_type": "stream",
          "text": [
            "Enviando órdenes a la cocina\n",
            "Preparando carne\n",
            "Preparando helado\n"
          ]
        }
      ],
      "source": [
        "from abc import ABC, abstractmethod\n",
        "\n",
        "class Orden(ABC):\n",
        "    @abstractmethod\n",
        "    def ejecutar(self):\n",
        "        pass\n",
        "\n",
        "# Se implementan clases concretas para las ordenes a utilizar\n",
        "class OrdenCarne(Orden):\n",
        "    def __init__(self, cocina):\n",
        "        self.cocina = cocina\n",
        "\n",
        "    def ejecutar(self):\n",
        "        self.cocina.preparar_carne()\n",
        "\n",
        "class OrdenHelado(Orden):\n",
        "    def __init__(self, cocina):\n",
        "        self.cocina = cocina\n",
        "\n",
        "    def ejecutar(self):\n",
        "        self.cocina.preparar_helado()\n",
        "\n",
        "# Se define el receptor de alimentos para la cocina\n",
        "class Cocina:\n",
        "    def preparar_carne(self):\n",
        "        print(\"Preparando carne\")\n",
        "\n",
        "    def preparar_helado(self):\n",
        "        print(\"Preparando helado\")\n",
        "\n",
        "# Se define un invocador para el almacenamienteo, limpeza, envio  y recibimiento de ordenes\n",
        "class Mesero:\n",
        "    def __init__(self):\n",
        "        self.ordenes = []\n",
        "\n",
        "    def tomar_orden(self, orden):\n",
        "        self.ordenes.append(orden)\n",
        "\n",
        "    def enviar_ordenes(self):\n",
        "        print(\"Enviando órdenes a la cocina\")\n",
        "        for orden in self.ordenes:\n",
        "            orden.ejecutar()\n",
        "        self.ordenes = []\n",
        "\n",
        "#Ejecucion del proceso al clinete\n",
        "\n",
        "if __name__ == \"__main__\":\n",
        "    cocina = Cocina()\n",
        "    orden_carne = OrdenCarne(cocina)\n",
        "    orden_helado = OrdenHelado(cocina)\n",
        "\n",
        "    mesero = Mesero()\n",
        "    mesero.tomar_orden(orden_carne)\n",
        "    mesero.tomar_orden(orden_helado)\n",
        "    mesero.enviar_ordenes()"
      ]
    },
    {
      "cell_type": "markdown",
      "metadata": {},
      "source": [
        "El modelo planteado satisface los principios SOLID:\n",
        "\n",
        "    S - Principio de Responsabilidad Única (SRP)\n",
        "        Cada clase tiene una única responsabilidad:\n",
        "        OrdenCarne y OrdenHelado encapsulan la acción específica de cada orden.\n",
        "        Cocina se encarga de preparar los alimentos.\n",
        "        Mesero gestiona, almacena y envía las órdenes sin conocer los detalles de su ejecución.\n",
        "\n",
        "    O - Principio de Abierto/Cerrado (OCP)\n",
        "        Se pueden agregar nuevas órdenes (por ejemplo, OrdenPizza) sin modificar el código existente, solo extendiendo la abstracción Orden.\n",
        "\n",
        "    L - Principio de Sustitución de Liskov (LSP)\n",
        "        Todas las clases que heredan de Orden (como OrdenCarne y OrdenHelado) pueden ser usadas de forma intercambiable sin afectar el funcionamiento del sistema.\n",
        "\n",
        "    I - Principio de Segregación de Interfaces (ISP)\n",
        "        La interfaz definida en Orden es mínima (solo el método ejecutar), lo que obliga a las clases a implementar únicamente lo necesario.\n",
        "\n",
        "    D - Principio de Inversión de Dependencias (DIP)\n",
        "        Mesero depende de la abstracción Orden en lugar de depender de implementaciones concretas, facilitando la extensión y el mantenimiento del código."
      ]
    },
    {
      "cell_type": "markdown",
      "metadata": {},
      "source": [
        "Adicionalmente se satisfacen los siguientes principios GRASP:\n",
        "\n",
        "    1 - Polimorfismo\n",
        "        Se utiliza polimorfismo, ya que todas las órdenes implementan la interfaz Orden y pueden ser tratadas de manera uniforme por Mesero.\n",
        "\n",
        "    2 - Bajo Acoplamiento\n",
        "        El uso del patrón Command desacopla a Mesero de Cocina, ya que el mesero solo interactúa con la abstracción Orden, sin conocer detalles de la ejecución.\n",
        "\n",
        "    3 - Indirection\n",
        "        Los comandos actúan como intermediarios entre el invocador (Mesero) y el receptor (Cocina), facilitando la delegación y extensión de funcionalidades.\n",
        "\n",
        "    4 - Alta Cohesión\n",
        "        Cada clase se concentra en una tarea específica, lo que simplifica la comprensión y el mantenimiento del sistema."
      ]
    },
    {
      "cell_type": "markdown",
      "metadata": {},
      "source": [
        "# Mediator\n",
        "El patrón restringe las comunicaciones directas entre los objetos, forzándolos a colaborar únicamente a través de un objeto mediador."
      ]
    },
    {
      "cell_type": "markdown",
      "metadata": {},
      "source": [
        "## Sala de chat\n",
        "Se necesita implementar una sala de chat donde los participantes no se envían mensajes directamente entre sí, sino que todos los mensajes pasan por el grupo."
      ]
    },
    {
      "cell_type": "code",
      "execution_count": 3,
      "metadata": {},
      "outputs": [
        {
          "name": "stdout",
          "output_type": "stream",
          "text": [
            "Alice envía: Hola a todos!\n",
            "Bob recibe: Hola a todos!\n",
            "Charlie recibe: Hola a todos!\n",
            "Bob envía: Hola Alice!\n",
            "Alice recibe: Hola Alice!\n",
            "Charlie recibe: Hola Alice!\n",
            "Charlie envía: Buenas!\n",
            "Alice recibe: Buenas!\n",
            "Bob recibe: Buenas!\n"
          ]
        }
      ],
      "source": [
        "from abc import ABC, abstractmethod\n",
        "\n",
        "# Interfaz del Mediador\n",
        "class ChatMediator(ABC):\n",
        "    @abstractmethod\n",
        "    def send_message(self, message: str, user):\n",
        "        pass\n",
        "\n",
        "# Implementación del Mediador\n",
        "class ChatRoom(ChatMediator):\n",
        "    def __init__(self):\n",
        "        self.users = []\n",
        "\n",
        "    def add_user(self, user):\n",
        "        self.users.append(user)\n",
        "\n",
        "    def send_message(self, message: str, user):\n",
        "        for u in self.users:\n",
        "            if u != user:  # No enviarse mensajes a sí mismo\n",
        "                u.receive(message)\n",
        "\n",
        "# Clase Colega (Usuario)\n",
        "class User:\n",
        "    def __init__(self, name: str, mediator: ChatMediator):\n",
        "        self.name = name\n",
        "        self.mediator = mediator\n",
        "        self.mediator.add_user(self)\n",
        "\n",
        "    def send(self, message: str):\n",
        "        print(f\"{self.name} envía: {message}\")\n",
        "        self.mediator.send_message(message, self)\n",
        "\n",
        "    def receive(self, message: str):\n",
        "        print(f\"{self.name} recibe: {message}\")\n",
        "\n",
        "# Caso de uso\n",
        "chat = ChatRoom()\n",
        "\n",
        "user1 = User(\"Alice\", chat)\n",
        "user2 = User(\"Bob\", chat)\n",
        "user3 = User(\"Charlie\", chat)\n",
        "user1.send(\"Hola a todos!\")\n",
        "user2.send(\"Hola Alice!\")\n",
        "user3.send(\"Buenas!\")\n"
      ]
    },
    {
      "cell_type": "markdown",
      "metadata": {},
      "source": [
        "El patron multiton cumple algunos principios SOLID\n",
        "\n",
        "    S - Principio de Responsabilidad Única (SRP)\n",
        "        ChatRoom solo se encarga de la mediación de mensajes.\n",
        "        User solo representa a un usuario y maneja el envío/recepción de mensajes.\n",
        "\n",
        "    O - Principio de Abierto/Cerrado (OCP)\n",
        "        Se pueden agregar nuevas funcionalidades al chat (como mensajes privados) sin modificar las clases existentes.\n",
        "\n",
        "    L - Principio de Sustitución de Liskov (LSP)\n",
        "        ChatRoom puede ser reemplazado por otra implementación de ChatMediator sin afectar a User.\n",
        "\n",
        "    I - Principio de Segregación de Interfaces (ISP)\n",
        "        ChatMediator solo define los métodos que necesita (send_message).\n",
        "        No fuerza a sus implementaciones a definir métodos innecesarios.\n",
        "\n",
        "    D - Principio de Inversión de Dependencias (DIP)\n",
        "        User no depende de una implementación concreta de ChatMediator, sino de su abstracción, lo que permite cambiar fácilmente la lógica del mediador."
      ]
    },
    {
      "cell_type": "markdown",
      "metadata": {},
      "source": [
        "Adicionalmente se satisfacen los siguientes principios GRASP:\n",
        "\n",
        "    1 - Indirection\n",
        "        ChatRoom actúa como un intermediario, evitando que los usuarios interactúen directamente.\n",
        "\n",
        "    2 - Bajo Acoplamiento\n",
        "        Los usuarios no dependen entre sí, sino solo del mediador.\n",
        "\n",
        "    3 - Alta Cohesión\n",
        "        Cada clase tiene un propósito bien definido:\n",
        "        User representa a un usuario.\n",
        "        ChatRoom se encarga de la comunicación."
      ]
    }
  ],
  "metadata": {
    "colab": {
      "provenance": []
    },
    "kernelspec": {
      "display_name": "venv",
      "language": "python",
      "name": "python3"
    },
    "language_info": {
      "codemirror_mode": {
        "name": "ipython",
        "version": 3
      },
      "file_extension": ".py",
      "mimetype": "text/x-python",
      "name": "python",
      "nbconvert_exporter": "python",
      "pygments_lexer": "ipython3",
      "version": "3.11.3"
    }
  },
  "nbformat": 4,
  "nbformat_minor": 0
}
