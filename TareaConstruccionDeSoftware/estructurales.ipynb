{
 "cells": [
  {
   "cell_type": "markdown",
   "metadata": {},
   "source": [
    "# Adapter\n",
    "\n",
    "El patrón Adapter permite que una clase (o interfaz) incompatible con una interfaz específica pueda ser usada sin modificar su código original."
   ]
  },
  {
   "cell_type": "markdown",
   "metadata": {},
   "source": [
    "## Caso de estudio\n",
    "\n",
    "Tenemos un sistema de pagos que necesita conectarse con un servicio externo. El problema es que el servicio externo usa una interfaz diferente a la que el sistema espera. Para solucionar esto, se usa un adaptador (PaymentAdapter) que traduce las llamadas del sistema al formato que el servicio externo entiende."
   ]
  },
  {
   "cell_type": "code",
   "execution_count": 1,
   "metadata": {},
   "outputs": [
    {
     "name": "stdout",
     "output_type": "stream",
     "text": [
      "Processing external transaction of $100\n"
     ]
    }
   ],
   "source": [
    "from abc import ABC, abstractmethod\n",
    "\n",
    "# Interfaz común para procesadores de pago\n",
    "class PaymentService(ABC):\n",
    "    @abstractmethod\n",
    "    def process_payment(self, amount: float):\n",
    "        pass\n",
    "\n",
    "# Servicio externo con una interfaz diferente\n",
    "class ExternalPaymentGateway:\n",
    "    def make_transaction(self, value: float):\n",
    "        print(f\"Processing external transaction of ${value}\")\n",
    "\n",
    "# Adapter para hacer compatible ExternalPaymentGateway con PaymentService\n",
    "class PaymentAdapter(PaymentService):\n",
    "    def __init__(self, gateway: ExternalPaymentGateway):\n",
    "        self.gateway = gateway\n",
    "\n",
    "    def process_payment(self, amount: float):\n",
    "        self.gateway.make_transaction(amount)\n",
    "\n",
    "# Clase que usa el servicio de pago sin importar su implementación concreta\n",
    "class PaymentProcessor:\n",
    "    def __init__(self, service: PaymentService):\n",
    "        self.service = service\n",
    "\n",
    "    def process(self, amount: float):\n",
    "        self.service.process_payment(amount)\n",
    "\n",
    "# Uso del patrón Adapter\n",
    "if __name__ == \"__main__\":\n",
    "    external_gateway = ExternalPaymentGateway()\n",
    "    adapter = PaymentAdapter(external_gateway)\n",
    "    processor = PaymentProcessor(adapter)\n",
    "\n",
    "    processor.process(100)"
   ]
  },
  {
   "cell_type": "markdown",
   "metadata": {},
   "source": [
    "El modelo planteado satisface los principios SOLID:\n",
    "\n",
    "    S - Principio de Responsabilidad Única (SRP)\n",
    "        Cada clase tiene una única responsabilidad:\n",
    "        ExternalPaymentGateway se encarga de realizar la transacción externa.\n",
    "        PaymentAdapter adapta la interfaz de ExternalPaymentGateway a PaymentService.\n",
    "        PaymentProcessor utiliza PaymentService para procesar pagos sin conocer detalles de la implementación.\n",
    "\n",
    "    O - Principio de Abierto/Cerrado (OCP)\n",
    "        Se pueden agregar nuevos adaptadores o implementaciones de PaymentService sin modificar la clase PaymentProcessor.\n",
    "\n",
    "    L - Principio de Sustitución de Liskov (LSP)\n",
    "        PaymentAdapter implementa PaymentService y puede sustituir cualquier otra implementación de PaymentService sin alterar el comportamiento del sistema.\n",
    "\n",
    "    I - Principio de Segregación de Interfaces (ISP)\n",
    "        La interfaz PaymentService define únicamente el método necesario para procesar pagos, obligando a las clases a implementar solo lo que realmente requieren.\n",
    "\n",
    "    D - Principio de Inversión de Dependencias (DIP)\n",
    "        PaymentProcessor depende de la abstracción PaymentService en lugar de una implementación concreta, facilitando la extensión y el mantenimiento del código."
   ]
  },
  {
   "cell_type": "markdown",
   "metadata": {},
   "source": [
    "Adicionalmente se satisfacen los siguientes principios GRASP:\n",
    "\n",
    "    1 - Polimorfismo\n",
    "        PaymentAdapter implementa la interfaz PaymentService, lo que permite utilizar distintas implementaciones de pago de forma intercambiable.\n",
    "\n",
    "    2 - Bajo Acoplamiento\n",
    "        PaymentProcessor depende únicamente de la abstracción PaymentService, sin conocer la implementación concreta de ExternalPaymentGateway, lo que facilita la extensión y el mantenimiento del código."
   ]
  },
  {
   "cell_type": "markdown",
   "metadata": {},
   "source": [
    "# Composite\n",
    "El patrón Composite permite tratar objetos individuales y grupos de objetos de la misma forma."
   ]
  },
  {
   "cell_type": "markdown",
   "metadata": {},
   "source": [
    "## Caso de estudio\n",
    "\n",
    "Se requiere un sistema que muestre archivos y carpetas de maenra jerárquica. Gracias al patrón Composite, tanto archivos como carpetas pueden manejarse de la misma manera, simplificando la gestión del sistema de archivos."
   ]
  },
  {
   "cell_type": "code",
   "execution_count": 2,
   "metadata": {},
   "outputs": [
    {
     "name": "stdout",
     "output_type": "stream",
     "text": [
      "+ Folder: Root\n",
      "  + Folder: Folder A\n",
      "    - File: file2.txt\n",
      "    + Folder: Folder B\n",
      "      - File: file3.txt\n",
      "  - File: file1.txt\n"
     ]
    }
   ],
   "source": [
    "from abc import ABC, abstractmethod\n",
    "\n",
    "# Clase base para archivos y carpetas\n",
    "class FileSystemComponent(ABC):\n",
    "    def __init__(self, name: str):\n",
    "        self.name = name\n",
    "\n",
    "    @abstractmethod\n",
    "    def display(self, indent: str = \"\"):\n",
    "        pass\n",
    "\n",
    "# Representa un archivo individual\n",
    "class File(FileSystemComponent):\n",
    "    def display(self, indent: str = \"\"):\n",
    "        print(f\"{indent}- File: {self.name}\")\n",
    "\n",
    "# Representa una carpeta que puede contener archivos o más carpetas\n",
    "class Folder(FileSystemComponent):\n",
    "    def __init__(self, name: str):\n",
    "        super().__init__(name)\n",
    "        self.children = []\n",
    "\n",
    "    def add(self, component: FileSystemComponent):\n",
    "        self.children.append(component)\n",
    "\n",
    "    def display(self, indent: str = \"\"):\n",
    "        print(f\"{indent}+ Folder: {self.name}\")\n",
    "        for child in self.children:\n",
    "            child.display(indent + \"  \")\n",
    "\n",
    "# Uso del patrón Composite\n",
    "if __name__ == \"__main__\":\n",
    "    root = Folder(\"Root\")\n",
    "    folder_a = Folder(\"Folder A\")\n",
    "    folder_b = Folder(\"Folder B\")\n",
    "\n",
    "    file1 = File(\"file1.txt\")\n",
    "    file2 = File(\"file2.txt\")\n",
    "    file3 = File(\"file3.txt\")\n",
    "\n",
    "    root.add(folder_a)\n",
    "    root.add(file1)\n",
    "    folder_a.add(file2)\n",
    "    folder_a.add(folder_b)\n",
    "    folder_b.add(file3)\n",
    "\n",
    "    root.display()"
   ]
  },
  {
   "cell_type": "markdown",
   "metadata": {},
   "source": [
    "El modelo planteado satisface los principios SOLID:\n",
    "\n",
    "    S - Principio de Responsabilidad Única (SRP)\n",
    "        Cada clase tiene una única responsabilidad:\n",
    "        FileSystemComponent define la estructura común para todos los componentes del sistema de archivos.\n",
    "        File se encarga de representar y mostrar un archivo individual.\n",
    "        Folder gestiona la colección de componentes (archivos y carpetas) y su visualización.\n",
    "\n",
    "    O - Principio de Abierto/Cerrado (OCP)\n",
    "        El sistema es abierto a la extensión, permitiendo agregar nuevos tipos de componentes sin modificar la clase base FileSystemComponent.\n",
    "\n",
    "    L - Principio de Sustitución de Liskov (LSP)\n",
    "        Las clases File y Folder pueden ser utilizadas indistintamente donde se espera un FileSystemComponent sin alterar el comportamiento esperado.\n",
    "\n",
    "    I - Principio de Segregación de Interfaces (ISP)\n",
    "        La interfaz definida en FileSystemComponent es mínima (sólo el método display), obligando a cada clase a implementar únicamente lo necesario.\n",
    "\n",
    "    D - Principio de Inversión de Dependencias (DIP)\n",
    "        Folder y otros componentes dependen de la abstracción FileSystemComponent en lugar de depender de implementaciones concretas."
   ]
  },
  {
   "cell_type": "markdown",
   "metadata": {},
   "source": [
    "Adicionalmente se satisfacen los siguientes principios GRASP:\n",
    "\n",
    "    1 - Polimorfismo\n",
    "        Se utiliza polimorfismo a través del método display, que es implementado de forma distinta en File y Folder.\n",
    "\n",
    "    2 - Bajo Acoplamiento\n",
    "        Folder interactúa con sus componentes hijos únicamente a través de la abstracción FileSystemComponent, reduciendo la dependencia de clases concretas.\n",
    "\n",
    "    3 - Alta Cohesión\n",
    "        Cada clase posee una responsabilidad clara y enfocada, lo que facilita el mantenimiento y la comprensión del código.\n",
    "\n",
    "    4 - Creator\n",
    "        La clase Folder actúa como creadora al gestionar la adición de componentes (archivos y subcarpetas) dentro de la estructura del sistema de archivos"
   ]
  }
 ],
 "metadata": {
  "kernelspec": {
   "display_name": "Python 3",
   "language": "python",
   "name": "python3"
  },
  "language_info": {
   "codemirror_mode": {
    "name": "ipython",
    "version": 3
   },
   "file_extension": ".py",
   "mimetype": "text/x-python",
   "name": "python",
   "nbconvert_exporter": "python",
   "pygments_lexer": "ipython3",
   "version": "3.10.13"
  }
 },
 "nbformat": 4,
 "nbformat_minor": 2
}
