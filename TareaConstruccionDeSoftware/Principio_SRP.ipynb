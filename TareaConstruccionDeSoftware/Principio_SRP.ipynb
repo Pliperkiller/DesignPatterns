{
  "cells": [
    {
      "cell_type": "markdown",
      "metadata": {
        "id": "rQUu1FROhdVH"
      },
      "source": [
        "# **Principio de responsabilidad única (SRP)**\n",
        "\n",
        "**Definición:** Este principio establece que una clase debe tener una única razón para cambiar. En otras palabras, una clase debe tener una sola responsabilidad bien definida. Este principio es fundamental en la programación orientada a objetos, ya que promueve la creación de código más modular, mantenible y escalable.\n",
        "\n",
        "**Principios SOLID aplicado**\n",
        "\n",
        "* SRP: Principio de responsabilidad única\n",
        "\n",
        "**Caso de Estudio**\n",
        "\n",
        "Implementar un caso práctico, en donde se aplique el principio SRP asociado a un sistema que va a generar reportes y los almacena en un archivo determinado"
      ]
    },
    {
      "cell_type": "code",
      "source": [
        "# Sin Aplicar SRP\n",
        "\n",
        "class Reporte:\n",
        "    def __init__(self, contenido):\n",
        "        self.contenido = contenido\n",
        "\n",
        "    def get_contenido(self):\n",
        "        return self.contenido\n",
        "\n",
        "    def almacenar_archivo(self, filename):\n",
        "        try:\n",
        "            with open(filename, \"w\") as file:\n",
        "                file.write(self.contenido)\n",
        "        except IOError as e:\n",
        "            print(f\"Error: {e}\")\n",
        "\n",
        "report = Reporte(\"Reporte obtenido\")\n",
        "report.almacenar_archivo(\"reporte.txt\")\n",
        "\n",
        "\n",
        "#Aplicando SRP\n",
        "\n",
        "#Almacenamiento del reporte\n",
        "class Reporte:\n",
        "\n",
        "    def __init__(self, contenido):\n",
        "        self.contenido = contenido\n",
        "    def get_contenido(self):\n",
        "        return self.contenido\n",
        "\n",
        "#Gestion del archivo\n",
        "class GestorDeArchivos:\n",
        "\n",
        "    @staticmethod\n",
        "    def almacenar_archivo(filename, contenido):\n",
        "        try:\n",
        "            with open(filename, \"w\") as file:\n",
        "                file.write(contenido)\n",
        "            print(f\" Reporte guardado exitosamente:{filename}\")\n",
        "        except IOError as e:\n",
        "            print(f\"Error'{filename}': {e}\")\n",
        "\n",
        "reporte = Reporte(\"Reporte obtenido\")\n",
        "GestorDeArchivos.almacenar_archivo(\"reporte.txt\", reporte.get_contenido())"
      ],
      "metadata": {
        "id": "Z25hLOcUhHZB"
      },
      "execution_count": null,
      "outputs": []
    }
  ],
  "metadata": {
    "kernelspec": {
      "display_name": "Python 3",
      "language": "python",
      "name": "python3"
    },
    "language_info": {
      "name": "python",
      "version": "3.12.9"
    },
    "colab": {
      "provenance": [],
      "collapsed_sections": [
        "V3ru--h08nP1",
        "okbiMvRJhdVO"
      ]
    }
  },
  "nbformat": 4,
  "nbformat_minor": 0
}