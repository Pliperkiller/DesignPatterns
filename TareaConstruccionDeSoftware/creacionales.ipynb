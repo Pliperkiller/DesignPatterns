{
 "cells": [
  {
   "cell_type": "markdown",
   "metadata": {},
   "source": [
    "# Factory\n",
    "Proporciona una interfaz para crear objetos en una superclase, mientras permite a las subclases alterar el tipo de objetos que se crearán."
   ]
  },
  {
   "cell_type": "markdown",
   "metadata": {},
   "source": [
    "## Caso de estudio: Sistema de preparacion de comidas rápidas\n",
    "\n",
    "Se dispone de un sistema de preparacion de comidas rápidas, las clases \"comida\" se encargan de gestionar el proceso de la comida mientras que las clases fábrica se encargan de crearlas/instanciarlas, el modelo presentado corresponde a un factory method"
   ]
  },
  {
   "cell_type": "code",
   "execution_count": 3,
   "metadata": {},
   "outputs": [
    {
     "name": "stdout",
     "output_type": "stream",
     "text": [
      "Pizza is preparing...\n",
      "Pizza is serving...\n",
      "Burger is preparing...\n",
      "Burger is serving...\n"
     ]
    }
   ],
   "source": [
    "from typing import List\n",
    "from abc import ABC, abstractmethod\n",
    "\n",
    "# Interface factory\n",
    "class IFoodFactory(ABC):\n",
    "    @abstractmethod\n",
    "    def create_food(self):\n",
    "        pass\n",
    "\n",
    "class PizzaFactory(IFoodFactory):\n",
    "    def create_food(self):\n",
    "        return Pizza()\n",
    "    \n",
    "class BurgerFactory(IFoodFactory):\n",
    "    def create_food(self):\n",
    "        return Burger()\n",
    "\n",
    "# Interface product\n",
    "class IFood(ABC):\n",
    "    @abstractmethod\n",
    "    def prepare(self):\n",
    "        pass\n",
    "\n",
    "    @abstractmethod\n",
    "    def serve(self):\n",
    "        pass\n",
    "\n",
    "class Pizza(IFood):\n",
    "    def prepare(self):\n",
    "        print(\"Pizza is preparing...\")\n",
    "\n",
    "    def serve(self):\n",
    "        print(\"Pizza is serving...\")\n",
    "\n",
    "class Burger(IFood):\n",
    "    def prepare(self):\n",
    "        print(\"Burger is preparing...\")\n",
    "\n",
    "    def serve(self):\n",
    "        print(\"Burger is serving...\")\n",
    "\n",
    "class Client:\n",
    "    def __init__(self, food_factory: IFoodFactory):\n",
    "        self.food_factory = food_factory\n",
    "    \n",
    "    def execute(self):\n",
    "        food = self.food_factory.create_food()\n",
    "        food.prepare()\n",
    "        food.serve()\n",
    "\n",
    "if __name__ == \"__main__\":\n",
    "    client1 = Client(PizzaFactory())\n",
    "    client1.execute()\n",
    "    \n",
    "    client2 = Client(BurgerFactory())\n",
    "    client2.execute()"
   ]
  },
  {
   "cell_type": "markdown",
   "metadata": {},
   "source": [
    "El modelo planteado satisface los principios SOLID:\n",
    "\n",
    "    S - Principio de Responsabilidad Única (SRP)\n",
    "        Cada clase tiene una única responsabilidad:\n",
    "        Pizza y Burger manejan la preparación y el servicio de la comida.\n",
    "        PizzaFactory y BurgerFactory se encargan de la creación de instancias de Pizza y Burger.\n",
    "        client se encarga de la lógica de ejecución sin conocer los detalles de los objetos creados.\n",
    "    \n",
    "    O - Principio de Abierto/Cerrado (OCP)\n",
    "        Se pueden agregar nuevos tipos de comida sin modificar las clases existentes, simplemente creando nuevas clases que implementen IFood y IFoodFactory.\n",
    "    \n",
    "    L - Principio de Sustitución de Liskov (LSP)\n",
    "        Pizza y Burger pueden ser utilizadas donde se espera un IFood, y PizzaFactory y BurgerFactory pueden sustituir a IFoodFactory sin afectar el comportamiento del código.\n",
    "    \n",
    "    I - Principio de Segregación de Interfaces (ISP)\n",
    "        Las interfaces IFood y IFoodFactory aseguran que las clases solo implementen los métodos que realmente necesitan.\n",
    "    \n",
    "    D - Principio de Inversión de Dependencias (DIP)\n",
    "    client no depende de implementaciones concretas, sino de las abstracciones IFoodFactory y IFood."
   ]
  },
  {
   "cell_type": "markdown",
   "metadata": {},
   "source": [
    "Adicionalmente se satisfacen los siguientes principios GRASP:\n",
    "\n",
    "    1 - Creator\n",
    "        PizzaFactory y BurgerFactory siguen el patrón Factory Method y son responsables de crear instancias de Pizza y Burger.\n",
    "\n",
    "    2 - Polimorfismo\n",
    "        Se utiliza polimorfismo al definir métodos abstractos en IFood y IFoodFactory, permitiendo que Pizza y Burger los implementen sin que el código cliente necesite conocer los detalles.\n",
    "\n",
    "    3 - Indirection\n",
    "        Se usa la fábrica como intermediario entre el cliente y la creación de objetos concretos, reduciendo el acoplamiento.\n",
    "\n",
    "    4 - Low Coupling\n",
    "        client no depende de implementaciones específicas, sino de interfaces, lo que facilita la extensibilidad y el mantenimiento del código.\n",
    "\n",
    "    5 - High Cohesion\n",
    "        Cada clase tiene una única razón para cambiar y está enfocada en una tarea específica, lo que mejora la cohesión."
   ]
  },
  {
   "cell_type": "markdown",
   "metadata": {},
   "source": [
    "# Multiton\n",
    "Multiton es una extensión del patrón Singleton, donde en lugar de tener una única instancia global, se gestionan múltiples instancias identificadas y localizables mediante una variable de clave/valor."
   ]
  },
  {
   "cell_type": "markdown",
   "metadata": {},
   "source": [
    "El patron multiton se puede implementar en una aplicación que realiza conexiones a diferentes bases de datos, en este caso crearemos una clase que instanciará diferentes singleton asociados a la conexion de una base de datos diferente para que ésta conexion no se produzca múltiples veces cada vez que se instancia la conexion"
   ]
  },
  {
   "cell_type": "code",
   "execution_count": 10,
   "metadata": {},
   "outputs": [
    {
     "name": "stdout",
     "output_type": "stream",
     "text": [
      "Creating new instance for mysql\n",
      "Creating new instance for PGsql\n",
      "Creating new instance for sqlite\n",
      "\n",
      "Executing query SELECT * FROM users in mysql\n",
      "Executing query SELECT * FROM products in PGsql\n",
      "Executing query SELECT * FROM store\n",
      " in sqlite\n",
      "\n",
      "Executing query SELECT * FROM products\n",
      " in mysql\n",
      "5162417358122147043\n",
      "5162417358122147043\n"
     ]
    }
   ],
   "source": [
    "class DatabaseConnection:\n",
    "    __instances = {} #Creamos un diccionario para almacenar los singleton\n",
    "\n",
    "    def __new__(cls, db_name):\n",
    "        if db_name not in cls.__instances:\n",
    "            instance = super().__new__(cls)\n",
    "            instance.db_name = db_name\n",
    "            instance.id = hash(db_name)\n",
    "            print(f\"Creating new instance for {db_name}\")\n",
    "            cls.__instances[db_name] = instance\n",
    "        return cls.__instances[db_name]\n",
    "    \n",
    "    def query(self, sql):\n",
    "        print(f\"Executing query {sql} in {self.db_name}\")\n",
    "\n",
    "if __name__ == \"__main__\":\n",
    "    # Creamos 3 instancias de la clase DatabaseConnection\n",
    "    db1 = DatabaseConnection(\"mysql\")\n",
    "    db2 = DatabaseConnection(\"PGsql\")\n",
    "    db3 = DatabaseConnection(\"sqlite\\n\")\n",
    "\n",
    "    # Validamos la funcionalidad\n",
    "    db1.query(\"SELECT * FROM users\")\n",
    "    db2.query(\"SELECT * FROM products\")\n",
    "    db3.query(\"SELECT * FROM store\\n\")\n",
    "\n",
    "    # Creamos otra instancia de una conexion a mysql\n",
    "    db4 = DatabaseConnection(\"mysql\")\n",
    "    db4.query(\"SELECT * FROM products\\n\")\n",
    "    \n",
    "    # Validamos que las instancias sean las mismas\n",
    "    print(db1.id)\n",
    "    print(db4.id)"
   ]
  },
  {
   "cell_type": "markdown",
   "metadata": {},
   "source": [
    "El patron multiton cumple algunos principios SOLID\n",
    "\n",
    "    S - Principio de Responsabilidad Única (SRP)\n",
    "        Cumple parcialmente: La clase DatabaseConnection se encarga de administrar conexiones a bases de datos y ejecutar consultas. Sin embargo, también gestiona el almacenamiento instancias, lo que representa una violación leve. Idealmente, la gestión de conexiones debería estar en una clase separada, como ConnectionManager.\n",
    "\n",
    "    O - Principio de Abierto/Cerrado (OCP)\n",
    "        Viola: Si queremos agregar soporte para conexiones con autenticación, pooling u otro tipo de configuración, tendríamos que modificar la clase actual en lugar de extender su funcionalidad sin modificarla.\n",
    "\n",
    "    L - Principio de Sustitución de Liskov (LSP)\n",
    "        Cumple: No hay herencia en este código, por lo que no se está violando el LSP.\n",
    "\n",
    "    I - Principio de Segregación de Interfaces (ISP)\n",
    "        Cumple: La clase no implementa interfaces grandes ni métodos innecesarios.\n",
    "\n",
    "    D - Principio de Inversión de Dependencias (DIP)\n",
    "        Viola: La clase DatabaseConnection depende directamente de la estructura de su propio diccionario de instancias. No está abstraída mediante una interfaz o inyección de dependencias."
   ]
  },
  {
   "cell_type": "markdown",
   "metadata": {},
   "source": [
    "El patron multiton cumple algunos principios GRASP\n",
    "\n",
    "    1 - Information Expert (Experto en Información)\n",
    "        Cumple: La clase que maneja las conexiones es quien tiene la información sobre ellas.\n",
    "    \n",
    "    2 - Creator (Creador)\n",
    "        Cumple: La clase crea y maneja instancias de sí misma correctamente.\n",
    "    \n",
    "    3 - High Cohesion (Alta Cohesión)\n",
    "        Parcialmente: La clase mezcla la gestión de conexiones y la ejecución de consultas, lo que disminuye un poco la cohesión.\n",
    "    \n",
    "    4 - Low Coupling (Bajo Acoplamiento)\n",
    "        Viola: La clase depende directamente de su implementación interna. No hay abstracción de las conexiones.\n",
    "    \n",
    "    5 - Singleton (Usado como Multiton)\n",
    "        Cumple: La clase usa una variante del patrón Singleton para gestionar múltiples conexiones únicas por base de datos."
   ]
  }
 ],
 "metadata": {
  "kernelspec": {
   "display_name": "venv",
   "language": "python",
   "name": "python3"
  },
  "language_info": {
   "codemirror_mode": {
    "name": "ipython",
    "version": 3
   },
   "file_extension": ".py",
   "mimetype": "text/x-python",
   "name": "python",
   "nbconvert_exporter": "python",
   "pygments_lexer": "ipython3",
   "version": "3.11.3"
  }
 },
 "nbformat": 4,
 "nbformat_minor": 2
}
