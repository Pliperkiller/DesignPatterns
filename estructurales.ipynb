{
 "cells": [
  {
   "cell_type": "markdown",
   "metadata": {},
   "source": [
    "## Adapter\n",
    "\n",
    "El patrón Adapter permite que una clase incompatible con una interfaz específica pueda ser usada sin modificar su código original.\n",
    "\n",
    "### Principios aplicados:\n",
    "#### SOLID:\n",
    "\n",
    "**SRP (Single Responsibility Principle):** PaymentAdapter solo convierte llamadas de ExternalPaymentGateway a PaymentService.\n",
    "\n",
    "**OCP (Open/Closed Principle):** Se pueden agregar más adaptadores sin modificar PaymentProcessor.\n",
    "\n",
    "**DIP (Dependency Inversion Principle):** PaymentProcessor depende de la abstracción PaymentService.\n",
    "\n",
    "#### GRASP:\n",
    "\n",
    "**Polimorfismo:** PaymentAdapter implementa PaymentService.\n",
    "\n",
    "**Bajo Acoplamiento:** PaymentProcessor no conoce ExternalPaymentGateway directamente."
   ]
  },
  {
   "cell_type": "code",
   "execution_count": 1,
   "metadata": {},
   "outputs": [
    {
     "name": "stdout",
     "output_type": "stream",
     "text": [
      "Processing external transaction of $100\n"
     ]
    }
   ],
   "source": [
    "from abc import ABC, abstractmethod\n",
    "\n",
    "# Interfaz común para procesadores de pago\n",
    "class PaymentService(ABC):\n",
    "    @abstractmethod\n",
    "    def process_payment(self, amount: float):\n",
    "        pass\n",
    "\n",
    "# Servicio externo con una interfaz diferente\n",
    "class ExternalPaymentGateway:\n",
    "    def make_transaction(self, value: float):\n",
    "        print(f\"Processing external transaction of ${value}\")\n",
    "\n",
    "# Adapter para hacer compatible ExternalPaymentGateway con PaymentService\n",
    "class PaymentAdapter(PaymentService):\n",
    "    def __init__(self, gateway: ExternalPaymentGateway):\n",
    "        self.gateway = gateway\n",
    "\n",
    "    def process_payment(self, amount: float):\n",
    "        self.gateway.make_transaction(amount)\n",
    "\n",
    "# Clase que usa el servicio de pago sin importar su implementación concreta\n",
    "class PaymentProcessor:\n",
    "    def __init__(self, service: PaymentService):\n",
    "        self.service = service\n",
    "\n",
    "    def process(self, amount: float):\n",
    "        self.service.process_payment(amount)\n",
    "\n",
    "# Uso del patrón Adapter\n",
    "external_gateway = ExternalPaymentGateway()\n",
    "adapter = PaymentAdapter(external_gateway)\n",
    "processor = PaymentProcessor(adapter)\n",
    "\n",
    "processor.process(100)"
   ]
  },
  {
   "cell_type": "markdown",
   "metadata": {},
   "source": [
    "## Composite\n",
    "El patrón Composite permite tratar objetos individuales y grupos de objetos de la misma forma.\n",
    "\n",
    "### Principios aplicados:\n",
    "\n",
    "#### SOLID:\n",
    "\n",
    "**LSP (Liskov Substitution Principle):** File y Folder pueden usarse de manera intercambiable.\n",
    "\n",
    "**OCP (Open/Closed Principle):** Se pueden agregar más tipos de FileSystemComponent sin modificar código existente.\n",
    "\n",
    "#### GRASP:\n",
    "\n",
    "**Alta Cohesión:** File maneja archivos y Folder maneja estructuras de carpetas.\n",
    "\n",
    "**Bajo Acoplamiento:** Folder usa una lista de FileSystemComponent, permitiendo manejar diferentes tipos de elementos sin conocer sus detalles."
   ]
  },
  {
   "cell_type": "code",
   "execution_count": 2,
   "metadata": {},
   "outputs": [
    {
     "name": "stdout",
     "output_type": "stream",
     "text": [
      "+ Folder: Root\n",
      "  + Folder: Folder A\n",
      "    - File: file2.txt\n",
      "    + Folder: Folder B\n",
      "      - File: file3.txt\n",
      "  - File: file1.txt\n"
     ]
    }
   ],
   "source": [
    "from abc import ABC, abstractmethod\n",
    "\n",
    "# Clase base para archivos y carpetas\n",
    "class FileSystemComponent(ABC):\n",
    "    def __init__(self, name: str):\n",
    "        self.name = name\n",
    "\n",
    "    @abstractmethod\n",
    "    def display(self, indent: str = \"\"):\n",
    "        pass\n",
    "\n",
    "# Representa un archivo individual\n",
    "class File(FileSystemComponent):\n",
    "    def display(self, indent: str = \"\"):\n",
    "        print(f\"{indent}- File: {self.name}\")\n",
    "\n",
    "# Representa una carpeta que puede contener archivos o más carpetas\n",
    "class Folder(FileSystemComponent):\n",
    "    def __init__(self, name: str):\n",
    "        super().__init__(name)\n",
    "        self.children = []\n",
    "\n",
    "    def add(self, component: FileSystemComponent):\n",
    "        self.children.append(component)\n",
    "\n",
    "    def display(self, indent: str = \"\"):\n",
    "        print(f\"{indent}+ Folder: {self.name}\")\n",
    "        for child in self.children:\n",
    "            child.display(indent + \"  \")\n",
    "\n",
    "# Uso del patrón Composite\n",
    "root = Folder(\"Root\")\n",
    "folder_a = Folder(\"Folder A\")\n",
    "folder_b = Folder(\"Folder B\")\n",
    "\n",
    "file1 = File(\"file1.txt\")\n",
    "file2 = File(\"file2.txt\")\n",
    "file3 = File(\"file3.txt\")\n",
    "\n",
    "root.add(folder_a)\n",
    "root.add(file1)\n",
    "folder_a.add(file2)\n",
    "folder_a.add(folder_b)\n",
    "folder_b.add(file3)\n",
    "\n",
    "root.display()"
   ]
  }
 ],
 "metadata": {
  "kernelspec": {
   "display_name": "Python 3",
   "language": "python",
   "name": "python3"
  },
  "language_info": {
   "codemirror_mode": {
    "name": "ipython",
    "version": 3
   },
   "file_extension": ".py",
   "mimetype": "text/x-python",
   "name": "python",
   "nbconvert_exporter": "python",
   "pygments_lexer": "ipython3",
   "version": "3.10.13"
  }
 },
 "nbformat": 4,
 "nbformat_minor": 2
}
